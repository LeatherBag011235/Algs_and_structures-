{
 "cells": [
  {
   "cell_type": "code",
   "execution_count": 21,
   "metadata": {},
   "outputs": [],
   "source": [
    "def romanToInt(s: str) -> int:\n",
    "    roms = {\n",
    "        'I': 1,\n",
    "        'V': 5,\n",
    "        'X': 10,\n",
    "        'L': 50,\n",
    "        'C': 100,\n",
    "        'D': 500,\n",
    "        'M': 1000,\n",
    "    }\n",
    "\n",
    "    #lst = list(s)\n",
    "\n",
    "    res_num = 0\n",
    "\n",
    "    last_num_flag = True\n",
    "\n",
    "    for i in range(len(s) - 1):\n",
    "        #print(last_num_flag)\n",
    "\n",
    "        if last_num_flag == False:\n",
    "            last_num_flag = True\n",
    "            continue\n",
    "        \n",
    "        if roms[s[i]] >= roms[s[i+1]]:\n",
    "            res_num += roms[s[i]]\n",
    "            #print(f'Num is greater then the next one: {roms[s[i]]}')\n",
    "            last_num_flag = True\n",
    "\n",
    "        else:\n",
    "            res_num += roms[s[i+1]] - roms[s[i]]\n",
    "            #print(f'Num is less then the next one: {roms[s[i+1]] - roms[s[i]]}')\n",
    "            last_num_flag = False \n",
    "        \n",
    "\n",
    "    if last_num_flag == True:\n",
    "        res_num += roms[s[-1]]\n",
    "\n",
    "    return res_num"
   ]
  },
  {
   "cell_type": "code",
   "execution_count": 24,
   "metadata": {},
   "outputs": [
    {
     "name": "stdout",
     "output_type": "stream",
     "text": [
      "True\n",
      "Num is greater then the next one: 50\n",
      "True\n",
      "Num is greater then the next one: 5\n",
      "True\n",
      "Num is greater then the next one: 1\n",
      "True\n",
      "Num is greater then the next one: 1\n"
     ]
    },
    {
     "data": {
      "text/plain": [
       "58"
      ]
     },
     "execution_count": 24,
     "metadata": {},
     "output_type": "execute_result"
    }
   ],
   "source": [
    "romanToInt('LVIII') "
   ]
  }
 ],
 "metadata": {
  "kernelspec": {
   "display_name": "env",
   "language": "python",
   "name": "python3"
  },
  "language_info": {
   "codemirror_mode": {
    "name": "ipython",
    "version": 3
   },
   "file_extension": ".py",
   "mimetype": "text/x-python",
   "name": "python",
   "nbconvert_exporter": "python",
   "pygments_lexer": "ipython3",
   "version": "3.11.5"
  }
 },
 "nbformat": 4,
 "nbformat_minor": 2
}
