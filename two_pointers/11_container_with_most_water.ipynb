{
 "cells": [
  {
   "cell_type": "code",
   "execution_count": 23,
   "metadata": {},
   "outputs": [],
   "source": [
    "# too slow\n",
    "def maxArea(height: list[int]) -> int:\n",
    "\n",
    "    max_volume = 0 \n",
    "\n",
    "    max_height = max(height)\n",
    "\n",
    "    minimum_len = 0\n",
    "\n",
    "    l = 0\n",
    "    r = len(height) - 1\n",
    "\n",
    "    while height[l] <= max_height and r - l >= minimum_len:\n",
    "\n",
    "        while r - l >= minimum_len:\n",
    "\n",
    "            volume = min(height[l], height[r]) * (r - l)\n",
    "            max_volume = max(max_volume, volume)\n",
    "            minimum_len = max_volume / max_height\n",
    "\n",
    "            print(f'volume: {volume} \\nlh: {height[l]}, rh: {height[r]}')\n",
    "            print(f'l: {l}, r: {r} \\n')\n",
    "\n",
    "            curr_r_height = height[r]\n",
    "            r -= 1\n",
    "            while height[r] <= curr_r_height and r - l >= minimum_len:\n",
    "                r -= 1\n",
    "\n",
    "        curr_l_height = height[l]\n",
    "        l += 1\n",
    "        r = len(height) - 1\n",
    "        \n",
    "        print(f'l: {l}')\n",
    "        while height[l] <= curr_l_height and height[l] <= max_height and l < len(height) - 1:\n",
    "            l += 1\n",
    "    \n",
    "    return max_volume"
   ]
  },
  {
   "cell_type": "code",
   "execution_count": 37,
   "metadata": {},
   "outputs": [],
   "source": [
    "#Elegant and fast solution inspired by Greg Hogg. The idea is to use the fact that the width is going to decrease while squezing pointers, and the fact that only mooving lower height u can increase the volume.   \n",
    "def maxArea(height: list[int]) -> int:\n",
    "    l = 0\n",
    "    r = len(height) - 1\n",
    "\n",
    "    max_volume = 0\n",
    "\n",
    "    while l < r:\n",
    "\n",
    "        volume = min(height[l], height[r]) * (r - l)\n",
    "        max_volume = max(max_volume, volume)\n",
    "\n",
    "        if height[l] >= height[r]:\n",
    "            r -= 1\n",
    "        else: \n",
    "            l += 1\n",
    "\n",
    "    return max_volume"
   ]
  },
  {
   "cell_type": "code",
   "execution_count": 38,
   "metadata": {},
   "outputs": [
    {
     "data": {
      "text/plain": [
       "49"
      ]
     },
     "execution_count": 38,
     "metadata": {},
     "output_type": "execute_result"
    }
   ],
   "source": [
    "maxArea([1,8,6,2,5,4,8,3,7])"
   ]
  },
  {
   "cell_type": "code",
   "execution_count": 39,
   "metadata": {},
   "outputs": [
    {
     "data": {
      "text/plain": [
       "1"
      ]
     },
     "execution_count": 39,
     "metadata": {},
     "output_type": "execute_result"
    }
   ],
   "source": [
    "maxArea([1,1])"
   ]
  }
 ],
 "metadata": {
  "kernelspec": {
   "display_name": "env",
   "language": "python",
   "name": "python3"
  },
  "language_info": {
   "codemirror_mode": {
    "name": "ipython",
    "version": 3
   },
   "file_extension": ".py",
   "mimetype": "text/x-python",
   "name": "python",
   "nbconvert_exporter": "python",
   "pygments_lexer": "ipython3",
   "version": "3.11.5"
  }
 },
 "nbformat": 4,
 "nbformat_minor": 2
}
