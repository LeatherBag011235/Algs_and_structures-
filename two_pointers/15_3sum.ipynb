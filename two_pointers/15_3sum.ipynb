{
 "cells": [
  {
   "cell_type": "code",
   "execution_count": 42,
   "metadata": {},
   "outputs": [],
   "source": [
    "#wrong solution, because of squizing the middle pointer it leads to loss of some combinations that may attribute to answer\n",
    "def threeSum(nums: list[int]) -> list[list[int]]:\n",
    "    if len(nums) == 3:\n",
    "        if sum(nums) == 0:\n",
    "            return [nums]\n",
    "        else:\n",
    "            return []\n",
    "        \n",
    "    i = 0\n",
    "     \n",
    "    k = len(nums) - 1\n",
    "\n",
    "    ans = []\n",
    "\n",
    "    nums.sort()\n",
    "    print(nums)\n",
    "\n",
    "    while i < k - 1:\n",
    "        l_r_sum = nums[i] + nums[k]\n",
    "\n",
    "        if l_r_sum < 0: \n",
    "\n",
    "            j = k - 1\n",
    "            while nums[j] > l_r_sum * (-1):\n",
    "                j -= 1\n",
    "            \n",
    "            if nums[i] + nums[j] + nums[k] == 0:\n",
    "                print(nums[i], nums[j], nums[k], 'from left')\n",
    "                print(f'i: {i}, j: {j}, k: {k}', '\\n')\n",
    "\n",
    "                ans.append([nums[i], nums[j], nums[k]])\n",
    "\n",
    "            left_bound = nums[i]\n",
    "\n",
    "            while nums[i] == left_bound:\n",
    "                i += 1\n",
    "\n",
    "        else:\n",
    "\n",
    "            j = i + 1\n",
    "            while nums[j] < l_r_sum * (-1):\n",
    "                j += 1\n",
    "            \n",
    "            if nums[i] + nums[j] + nums[k] == 0:\n",
    "                print(nums[i], nums[j], nums[k], 'from right')\n",
    "                print(f'i: {i}, j: {j}, k: {k}', '\\n')\n",
    "\n",
    "                ans.append([nums[i], nums[j], nums[k]])\n",
    "\n",
    "            right_bound = nums[k]\n",
    "\n",
    "            while nums[k] == right_bound:\n",
    "                k -= 1\n",
    "    \n",
    "    return ans "
   ]
  },
  {
   "cell_type": "code",
   "execution_count": 38,
   "metadata": {},
   "outputs": [],
   "source": [
    "def threeSum(nums: list[int]) -> list[list[int]]:\n",
    "    nums.sort()\n",
    "\n",
    "    ans = []\n",
    "\n",
    "    i = 0 \n",
    "    while nums[i] < 1 and i < len(nums) - 2:\n",
    "\n",
    "        l = i + 1\n",
    "        r = len(nums) - 1\n",
    "\n",
    "        while l < r:\n",
    "\n",
    "            three_sum = nums[i] + nums[l] + nums[r]\n",
    "\n",
    "            if three_sum > 0:\n",
    "                r -= 1\n",
    "            elif three_sum < 0:\n",
    "                l += 1 \n",
    "            else:\n",
    "                ans.append([nums[i], nums[l], nums[r]])\n",
    "                prev_l = nums[l]\n",
    "                prev_r = nums[r]\n",
    "                \n",
    "                l += 1\n",
    "                r -= 1\n",
    "\n",
    "                while nums[l] == prev_l and l < r:\n",
    "                    l += 1 \n",
    "                while nums[r] == prev_r and l < r:\n",
    "                    r -= 1\n",
    "\n",
    "\n",
    "        prev_ofset = nums[i]\n",
    "        while nums[i] == prev_ofset and i < len(nums) - 2:\n",
    "            i += 1\n",
    "\n",
    "    return ans "
   ]
  },
  {
   "cell_type": "code",
   "execution_count": 39,
   "metadata": {},
   "outputs": [
    {
     "data": {
      "text/plain": [
       "[[-3, 0, 3], [-3, 1, 2], [-2, -1, 3], [-2, 0, 2], [-1, 0, 1]]"
      ]
     },
     "execution_count": 39,
     "metadata": {},
     "output_type": "execute_result"
    }
   ],
   "source": [
    "threeSum([-3, -3,-2,-1,0, 0,1,2,2, 3,3])"
   ]
  },
  {
   "cell_type": "code",
   "execution_count": 40,
   "metadata": {},
   "outputs": [
    {
     "data": {
      "text/plain": [
       "[[-1, -1, 2], [-1, 0, 1]]"
      ]
     },
     "execution_count": 40,
     "metadata": {},
     "output_type": "execute_result"
    }
   ],
   "source": [
    "threeSum([-1, -1, -1, 0, 1, 2, 2, -1, -5, 10])"
   ]
  },
  {
   "cell_type": "code",
   "execution_count": 41,
   "metadata": {},
   "outputs": [
    {
     "data": {
      "text/plain": [
       "[]"
      ]
     },
     "execution_count": 41,
     "metadata": {},
     "output_type": "execute_result"
    }
   ],
   "source": [
    "threeSum([0, 1, 1])"
   ]
  },
  {
   "cell_type": "code",
   "execution_count": 42,
   "metadata": {},
   "outputs": [
    {
     "data": {
      "text/plain": [
       "[[0, 0, 0]]"
      ]
     },
     "execution_count": 42,
     "metadata": {},
     "output_type": "execute_result"
    }
   ],
   "source": [
    "threeSum([0, 0, 0, 1])"
   ]
  },
  {
   "cell_type": "code",
   "execution_count": 43,
   "metadata": {},
   "outputs": [
    {
     "data": {
      "text/plain": [
       "[[0, 0, 0]]"
      ]
     },
     "execution_count": 43,
     "metadata": {},
     "output_type": "execute_result"
    }
   ],
   "source": [
    "threeSum([0, 0, 0])"
   ]
  }
 ],
 "metadata": {
  "kernelspec": {
   "display_name": "env",
   "language": "python",
   "name": "python3"
  },
  "language_info": {
   "codemirror_mode": {
    "name": "ipython",
    "version": 3
   },
   "file_extension": ".py",
   "mimetype": "text/x-python",
   "name": "python",
   "nbconvert_exporter": "python",
   "pygments_lexer": "ipython3",
   "version": "3.11.5"
  }
 },
 "nbformat": 4,
 "nbformat_minor": 2
}
