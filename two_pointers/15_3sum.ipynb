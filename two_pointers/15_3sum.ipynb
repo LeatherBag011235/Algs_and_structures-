{
 "cells": [
  {
   "cell_type": "code",
   "execution_count": 42,
   "metadata": {},
   "outputs": [],
   "source": [
    "#wrong solution, because of squizing the middle pointer it leads to loss of some combinations that may attribute to answer\n",
    "def three_sum(nums: list[int]) -> list[list[int]]:\n",
    "    if len(nums) == 3:\n",
    "        if sum(nums) == 0:\n",
    "            return [nums]\n",
    "        else:\n",
    "            return []\n",
    "        \n",
    "    i = 0\n",
    "     \n",
    "    k = len(nums) - 1\n",
    "\n",
    "    ans = []\n",
    "\n",
    "    nums.sort()\n",
    "    print(nums)\n",
    "\n",
    "    while i < k - 1:\n",
    "        l_r_sum = nums[i] + nums[k]\n",
    "\n",
    "        if l_r_sum < 0: \n",
    "\n",
    "            j = k - 1\n",
    "            while nums[j] > l_r_sum * (-1):\n",
    "                j -= 1\n",
    "            \n",
    "            if nums[i] + nums[j] + nums[k] == 0:\n",
    "                print(nums[i], nums[j], nums[k], 'from left')\n",
    "                print(f'i: {i}, j: {j}, k: {k}', '\\n')\n",
    "\n",
    "                ans.append([nums[i], nums[j], nums[k]])\n",
    "\n",
    "            left_bound = nums[i]\n",
    "\n",
    "            while nums[i] == left_bound:\n",
    "                i += 1\n",
    "\n",
    "        else:\n",
    "\n",
    "            j = i + 1\n",
    "            while nums[j] < l_r_sum * (-1):\n",
    "                j += 1\n",
    "            \n",
    "            if nums[i] + nums[j] + nums[k] == 0:\n",
    "                print(nums[i], nums[j], nums[k], 'from right')\n",
    "                print(f'i: {i}, j: {j}, k: {k}', '\\n')\n",
    "\n",
    "                ans.append([nums[i], nums[j], nums[k]])\n",
    "\n",
    "            right_bound = nums[k]\n",
    "\n",
    "            while nums[k] == right_bound:\n",
    "                k -= 1\n",
    "    \n",
    "    return ans "
   ]
  },
  {
   "cell_type": "code",
   "execution_count": 46,
   "metadata": {},
   "outputs": [
    {
     "name": "stdout",
     "output_type": "stream",
     "text": [
      "[-3, -3, -2, -1, 0, 1, 2, 2, 3]\n",
      "-3 0 3 from right\n",
      "i: 0, j: 4, k: 8 \n",
      "\n",
      "-3 1 2 from left\n",
      "i: 0, j: 5, k: 7 \n",
      "\n",
      "-2 0 2 from right\n",
      "i: 2, j: 4, k: 7 \n",
      "\n",
      "-1 0 1 from right\n",
      "i: 3, j: 4, k: 5 \n",
      "\n"
     ]
    },
    {
     "data": {
      "text/plain": [
       "[[-3, 0, 3], [-3, 1, 2], [-2, 0, 2], [-1, 0, 1]]"
      ]
     },
     "execution_count": 46,
     "metadata": {},
     "output_type": "execute_result"
    }
   ],
   "source": [
    "three_sum([-3, -3,-2,-1,0,1,2,2, 3])"
   ]
  },
  {
   "cell_type": "code",
   "execution_count": 33,
   "metadata": {},
   "outputs": [
    {
     "name": "stdout",
     "output_type": "stream",
     "text": [
      "[-5, -1, -1, -1, -1, 0, 1, 2, 2, 10]\n",
      "-1 -1 2 from right\n",
      "i: 1, j: 2, k: 8 \n",
      "\n",
      "-1 0 1 from right\n",
      "i: 1, j: 5, k: 6 \n",
      "\n"
     ]
    },
    {
     "data": {
      "text/plain": [
       "[[-1, -1, 2], [-1, 0, 1]]"
      ]
     },
     "execution_count": 33,
     "metadata": {},
     "output_type": "execute_result"
    }
   ],
   "source": [
    "three_sum([-1, -1, -1, 0, 1, 2, 2, -1, -5, 10])"
   ]
  },
  {
   "cell_type": "code",
   "execution_count": 39,
   "metadata": {},
   "outputs": [
    {
     "data": {
      "text/plain": [
       "[]"
      ]
     },
     "execution_count": 39,
     "metadata": {},
     "output_type": "execute_result"
    }
   ],
   "source": [
    "three_sum([0, 1, 1])"
   ]
  },
  {
   "cell_type": "code",
   "execution_count": 43,
   "metadata": {},
   "outputs": [
    {
     "name": "stdout",
     "output_type": "stream",
     "text": [
      "[0, 0, 0, 1]\n",
      "0 0 0 from right\n",
      "i: 0, j: 1, k: 2 \n",
      "\n"
     ]
    },
    {
     "data": {
      "text/plain": [
       "[[0, 0, 0]]"
      ]
     },
     "execution_count": 43,
     "metadata": {},
     "output_type": "execute_result"
    }
   ],
   "source": [
    "three_sum([0, 0, 0, 1])"
   ]
  },
  {
   "cell_type": "code",
   "execution_count": 44,
   "metadata": {},
   "outputs": [
    {
     "data": {
      "text/plain": [
       "[[0, 0, 0]]"
      ]
     },
     "execution_count": 44,
     "metadata": {},
     "output_type": "execute_result"
    }
   ],
   "source": [
    "three_sum([0, 0, 0])"
   ]
  }
 ],
 "metadata": {
  "kernelspec": {
   "display_name": "env",
   "language": "python",
   "name": "python3"
  },
  "language_info": {
   "codemirror_mode": {
    "name": "ipython",
    "version": 3
   },
   "file_extension": ".py",
   "mimetype": "text/x-python",
   "name": "python",
   "nbconvert_exporter": "python",
   "pygments_lexer": "ipython3",
   "version": "3.11.5"
  }
 },
 "nbformat": 4,
 "nbformat_minor": 2
}
