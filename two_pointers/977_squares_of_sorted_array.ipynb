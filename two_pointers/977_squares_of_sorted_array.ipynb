{
 "cells": [
  {
   "cell_type": "code",
   "execution_count": 3,
   "metadata": {},
   "outputs": [],
   "source": [
    "def sortedSquares(nums: list[int]) -> list[int]:\n",
    "    l = 0 \n",
    "    r = len(nums) - 1\n",
    "\n",
    "    result = [0] * (r + 1)\n",
    "    i = -1\n",
    "\n",
    "    while l <= r:\n",
    "        if abs(nums[l]) >= abs(nums[r]):\n",
    "            result[i] = nums[l] ** 2\n",
    "            l += 1\n",
    "            i -= 1\n",
    "        else:\n",
    "            result[i] = nums[r] ** 2\n",
    "            r -= 1\n",
    "            i -= 1\n",
    "    \n",
    "    return result \n",
    "            "
   ]
  },
  {
   "cell_type": "code",
   "execution_count": 4,
   "metadata": {},
   "outputs": [
    {
     "data": {
      "text/plain": [
       "[0, 1, 9, 16, 100]"
      ]
     },
     "execution_count": 4,
     "metadata": {},
     "output_type": "execute_result"
    }
   ],
   "source": [
    "sortedSquares([-4, -1, 0, 3, 10])"
   ]
  },
  {
   "cell_type": "code",
   "execution_count": 5,
   "metadata": {},
   "outputs": [
    {
     "data": {
      "text/plain": [
       "[4, 9, 9, 49, 121]"
      ]
     },
     "execution_count": 5,
     "metadata": {},
     "output_type": "execute_result"
    }
   ],
   "source": [
    "sortedSquares([-7, -3, 2, 3, 11])"
   ]
  }
 ],
 "metadata": {
  "kernelspec": {
   "display_name": "env",
   "language": "python",
   "name": "python3"
  },
  "language_info": {
   "codemirror_mode": {
    "name": "ipython",
    "version": 3
   },
   "file_extension": ".py",
   "mimetype": "text/x-python",
   "name": "python",
   "nbconvert_exporter": "python",
   "pygments_lexer": "ipython3",
   "version": "3.11.5"
  }
 },
 "nbformat": 4,
 "nbformat_minor": 2
}
