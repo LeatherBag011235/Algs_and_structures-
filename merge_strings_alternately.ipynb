{
 "cells": [
  {
   "cell_type": "code",
   "execution_count": 17,
   "metadata": {},
   "outputs": [],
   "source": [
    "def mergeAlternately(word1: str, word2: str) -> str:\n",
    "    lst1 = list(word1)\n",
    "    lst2 = list(word2)\n",
    "\n",
    "    #res_lst = [(x, y) for x, y in zip(lst1, lst2)]\n",
    "    res_lst = []\n",
    "\n",
    "    for i in range(max(len(lst1), len(lst2))):\n",
    "        if len(lst1) >= len(lst2):\n",
    "            res_lst.append(lst1[i])\n",
    "            try:\n",
    "                res_lst.append(lst2[i])\n",
    "            except Exception as e:\n",
    "                print(e)\n",
    "        else:\n",
    "            try:\n",
    "                res_lst.append(lst1[i])\n",
    "            except Exception as e:\n",
    "                print(e)\n",
    "            res_lst.append(lst2[i])\n",
    "    \n",
    "    return ''.join(res_lst)"
   ]
  },
  {
   "cell_type": "code",
   "execution_count": 28,
   "metadata": {},
   "outputs": [],
   "source": [
    "def mergeAlternately(word1: str, word2: str) -> str:\n",
    "    lst1 = list(word1)\n",
    "    lst2 = list(word2)\n",
    "\n",
    "    max_len = max(len(lst1), len(lst2))\n",
    "    \n",
    "    lst1.extend([None] * (max_len - len(lst1)))\n",
    "    lst2.extend([None] * (max_len - len(lst2)))\n",
    " \n",
    "    res_lst = []\n",
    "\n",
    "    for x, y in zip(lst1, lst2):\n",
    "        if x != None:\n",
    "            res_lst.append(x)\n",
    "        if y != None:\n",
    "            res_lst.append(y)\n",
    "\n",
    "    return ''.join(res_lst)"
   ]
  },
  {
   "cell_type": "code",
   "execution_count": 29,
   "metadata": {},
   "outputs": [
    {
     "data": {
      "text/plain": [
       "'fgfjhgfjhgjkjk'"
      ]
     },
     "execution_count": 29,
     "metadata": {},
     "output_type": "execute_result"
    }
   ],
   "source": [
    "mergeAlternately('ffhfhjkjk', 'gjgjg')"
   ]
  }
 ],
 "metadata": {
  "kernelspec": {
   "display_name": "env",
   "language": "python",
   "name": "python3"
  },
  "language_info": {
   "codemirror_mode": {
    "name": "ipython",
    "version": 3
   },
   "file_extension": ".py",
   "mimetype": "text/x-python",
   "name": "python",
   "nbconvert_exporter": "python",
   "pygments_lexer": "ipython3",
   "version": "3.11.5"
  }
 },
 "nbformat": 4,
 "nbformat_minor": 2
}
