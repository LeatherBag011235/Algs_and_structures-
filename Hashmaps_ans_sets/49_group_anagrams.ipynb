{
 "cells": [
  {
   "cell_type": "code",
   "execution_count": 31,
   "metadata": {},
   "outputs": [],
   "source": [
    "def groupAnagrams(strs: list[str]) -> list[list[str]]:\n",
    "    if not strs:\n",
    "        return [[\"\"]]\n",
    "\n",
    "    groups = []\n",
    "\n",
    "    for x in strs:\n",
    "\n",
    "        hash_map = {}\n",
    "\n",
    "        for i in x:\n",
    "            if i in hash_map:\n",
    "                hash_map[i] += 1\n",
    "            else:\n",
    "                hash_map[i] = 1 \n",
    "\n",
    "        if x == strs[0]:\n",
    "\n",
    "            groups.append([hash_map, x])\n",
    "            #print(f'init: {[hash_map, x]}')\n",
    "        else:\n",
    "\n",
    "            for l in groups:\n",
    "                new_group = True\n",
    "\n",
    "                if l[0] == hash_map:\n",
    "\n",
    "                    l.append(x)\n",
    "                    new_group = False\n",
    "\n",
    "                    break \n",
    "\n",
    "            if new_group == True:\n",
    "            \n",
    "                groups.append([hash_map, x])\n",
    "                #print(f'init: {[hash_map, x]}')\n",
    "    for k in groups:\n",
    "        k.pop(0)\n",
    "\n",
    "    return groups \n",
    "\n"
   ]
  },
  {
   "cell_type": "code",
   "execution_count": 32,
   "metadata": {},
   "outputs": [
    {
     "data": {
      "text/plain": [
       "[['eat', 'tea', 'ate'], ['tan', 'nat'], ['bat']]"
      ]
     },
     "execution_count": 32,
     "metadata": {},
     "output_type": "execute_result"
    }
   ],
   "source": [
    "groupAnagrams(['eat', 'tea', 'tan', 'ate', 'nat', 'bat',] )"
   ]
  },
  {
   "cell_type": "code",
   "execution_count": 33,
   "metadata": {},
   "outputs": [
    {
     "data": {
      "text/plain": [
       "[['']]"
      ]
     },
     "execution_count": 33,
     "metadata": {},
     "output_type": "execute_result"
    }
   ],
   "source": [
    "groupAnagrams([''])"
   ]
  },
  {
   "cell_type": "code",
   "execution_count": 34,
   "metadata": {},
   "outputs": [
    {
     "data": {
      "text/plain": [
       "[['a']]"
      ]
     },
     "execution_count": 34,
     "metadata": {},
     "output_type": "execute_result"
    }
   ],
   "source": [
    "groupAnagrams(['a'])"
   ]
  },
  {
   "cell_type": "code",
   "execution_count": 30,
   "metadata": {},
   "outputs": [
    {
     "name": "stdout",
     "output_type": "stream",
     "text": [
      "[[''], ['a']]\n"
     ]
    }
   ],
   "source": [
    "groupAnagrams(['', 'a'])"
   ]
  },
  {
   "cell_type": "code",
   "execution_count": null,
   "metadata": {},
   "outputs": [],
   "source": [
    "#check this \n",
    "[\"\",\"\"]\n"
   ]
  }
 ],
 "metadata": {
  "kernelspec": {
   "display_name": "env",
   "language": "python",
   "name": "python3"
  },
  "language_info": {
   "codemirror_mode": {
    "name": "ipython",
    "version": 3
   },
   "file_extension": ".py",
   "mimetype": "text/x-python",
   "name": "python",
   "nbconvert_exporter": "python",
   "pygments_lexer": "ipython3",
   "version": "3.11.5"
  }
 },
 "nbformat": 4,
 "nbformat_minor": 2
}
