{
 "cells": [
  {
   "cell_type": "code",
   "execution_count": 21,
   "metadata": {},
   "outputs": [],
   "source": [
    "def maksimum_num_ballons(text: str) -> int:\n",
    "    t_map = {}\n",
    "\n",
    "    for i in text:\n",
    "        if i in t_map:\n",
    "            t_map[i] += 1\n",
    "        else:\n",
    "            t_map[i] = 1\n",
    "\n",
    "    ans = 0\n",
    "\n",
    "    while t_map['b'] > 0 and t_map['a'] > 0 and t_map['n'] > 0 and t_map['l'] > 1 and t_map['o'] > 1:\n",
    "    \n",
    "        t_map['b'] -= 1\n",
    "        t_map['a'] -= 1\n",
    "        t_map['n'] -= 1\n",
    "        t_map['l'] -= 2\n",
    "        t_map['o'] -= 2\n",
    "\n",
    "        ans += 1\n",
    "    \n",
    "    return ans\n"
   ]
  },
  {
   "cell_type": "code",
   "execution_count": 24,
   "metadata": {},
   "outputs": [
    {
     "data": {
      "text/plain": [
       "1"
      ]
     },
     "execution_count": 24,
     "metadata": {},
     "output_type": "execute_result"
    }
   ],
   "source": [
    "maksimum_num_ballons('nlaebloko')"
   ]
  },
  {
   "cell_type": "code",
   "execution_count": 25,
   "metadata": {},
   "outputs": [
    {
     "data": {
      "text/plain": [
       "2"
      ]
     },
     "execution_count": 25,
     "metadata": {},
     "output_type": "execute_result"
    }
   ],
   "source": [
    "maksimum_num_ballons('loonbalxballpoon')"
   ]
  }
 ],
 "metadata": {
  "kernelspec": {
   "display_name": "env",
   "language": "python",
   "name": "python3"
  },
  "language_info": {
   "codemirror_mode": {
    "name": "ipython",
    "version": 3
   },
   "file_extension": ".py",
   "mimetype": "text/x-python",
   "name": "python",
   "nbconvert_exporter": "python",
   "pygments_lexer": "ipython3",
   "version": "3.11.5"
  }
 },
 "nbformat": 4,
 "nbformat_minor": 2
}
