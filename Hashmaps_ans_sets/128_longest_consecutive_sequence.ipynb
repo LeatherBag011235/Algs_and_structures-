{
 "cells": [
  {
   "cell_type": "code",
   "execution_count": 3,
   "metadata": {},
   "outputs": [],
   "source": [
    "def longest_sequence(nums: int) -> int:\n",
    "    nums.sort()\n",
    "\n",
    "    length_counter = {}\n",
    "\n",
    "    first_iter = True\n",
    "    i = 0\n",
    "    while i < len(nums):\n",
    "\n",
    "        if nums[i] + 1 == nums[i + 1]:\n"
   ]
  },
  {
   "cell_type": "code",
   "execution_count": 4,
   "metadata": {},
   "outputs": [],
   "source": [
    "longest_sequence([100, 4, 200, 3, 2, 1])"
   ]
  }
 ],
 "metadata": {
  "kernelspec": {
   "display_name": "env",
   "language": "python",
   "name": "python3"
  },
  "language_info": {
   "codemirror_mode": {
    "name": "ipython",
    "version": 3
   },
   "file_extension": ".py",
   "mimetype": "text/x-python",
   "name": "python",
   "nbconvert_exporter": "python",
   "pygments_lexer": "ipython3",
   "version": "3.11.5"
  }
 },
 "nbformat": 4,
 "nbformat_minor": 2
}
