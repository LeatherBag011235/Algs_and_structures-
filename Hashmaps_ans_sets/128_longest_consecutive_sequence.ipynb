{
 "cells": [
  {
   "cell_type": "code",
   "execution_count": 42,
   "metadata": {},
   "outputs": [],
   "source": [
    "#O(n * log n) solution \n",
    "def longestConsecutive(nums: int) -> int:\n",
    "    if not nums:\n",
    "        return 0\n",
    "    \n",
    "    \n",
    "    nums = list(set(nums))\n",
    "    n = len(nums)\n",
    "    nums.sort()\n",
    "    nums.append(nums[-1] - 1)\n",
    "    print(nums)\n",
    "\n",
    "\n",
    "    max_len = 1\n",
    "    curr_len = 1\n",
    "\n",
    "    i = 0\n",
    "    while i < n:\n",
    "\n",
    "        if nums[i] + 1 == nums[i + 1]:\n",
    "\n",
    "            curr_len += 1 \n",
    "        else: \n",
    "\n",
    "            max_len = max(max_len, curr_len)\n",
    "            curr_len = 1\n",
    "        \n",
    "        i += 1\n",
    "\n",
    "    return max_len\n"
   ]
  },
  {
   "cell_type": "code",
   "execution_count": 44,
   "metadata": {},
   "outputs": [],
   "source": [
    "# O (n) solution \n",
    "def longestConsecutive(nums: int) -> int:\n",
    "    if not nums:\n",
    "        return 0\n",
    "    \n",
    "    nums = set(nums)\n",
    "\n",
    "    max_len = 1\n",
    "    curr_len = 1\n",
    "\n",
    "\n",
    "    for x in nums:\n",
    "        if x - 1 in nums:\n",
    "            pass\n",
    "        else: \n",
    "            start = x\n",
    "\n",
    "            i = 1\n",
    "            while start + i in nums:\n",
    "                curr_len += 1\n",
    "                i += 1\n",
    "            \n",
    "            max_len = max(curr_len, max_len)\n",
    "\n",
    "            curr_len = 1\n",
    "\n",
    "    return max_len\n",
    "\n"
   ]
  },
  {
   "cell_type": "code",
   "execution_count": 45,
   "metadata": {},
   "outputs": [
    {
     "data": {
      "text/plain": [
       "4"
      ]
     },
     "execution_count": 45,
     "metadata": {},
     "output_type": "execute_result"
    }
   ],
   "source": [
    "longestConsecutive([100, 4, 200, 3, 2, 1])"
   ]
  },
  {
   "cell_type": "code",
   "execution_count": 46,
   "metadata": {},
   "outputs": [
    {
     "data": {
      "text/plain": [
       "9"
      ]
     },
     "execution_count": 46,
     "metadata": {},
     "output_type": "execute_result"
    }
   ],
   "source": [
    "longestConsecutive([0, 3, 7, 2, 5, 8, 4, 6, 0, 1])"
   ]
  },
  {
   "cell_type": "code",
   "execution_count": 47,
   "metadata": {},
   "outputs": [
    {
     "data": {
      "text/plain": [
       "3"
      ]
     },
     "execution_count": 47,
     "metadata": {},
     "output_type": "execute_result"
    }
   ],
   "source": [
    "longestConsecutive([1,2,0,1])"
   ]
  }
 ],
 "metadata": {
  "kernelspec": {
   "display_name": "env",
   "language": "python",
   "name": "python3"
  },
  "language_info": {
   "codemirror_mode": {
    "name": "ipython",
    "version": 3
   },
   "file_extension": ".py",
   "mimetype": "text/x-python",
   "name": "python",
   "nbconvert_exporter": "python",
   "pygments_lexer": "ipython3",
   "version": "3.11.5"
  }
 },
 "nbformat": 4,
 "nbformat_minor": 2
}
