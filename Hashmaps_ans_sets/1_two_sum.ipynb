{
 "cells": [
  {
   "cell_type": "code",
   "execution_count": 8,
   "metadata": {},
   "outputs": [],
   "source": [
    "# My solution \n",
    "def twoSum(nums: list[int], target: int) -> list[int]:\n",
    "    hash_list = [(x, i) for i, x in enumerate(nums)]\n",
    "\n",
    "    hash_list.sort(key=lambda x: x[0])\n",
    "\n",
    "    left = 0\n",
    "    right = len(nums) - 1\n",
    "\n",
    "    while left < right:\n",
    "        if hash_list[left][0] + hash_list[right][0] > target:\n",
    "            right -= 1\n",
    "        elif hash_list[left][0] + hash_list[right][0] < target:\n",
    "            left += 1\n",
    "        else:\n",
    "            ans = [hash_list[left][1], hash_list[right][1]]\n",
    "            ans.sort()\n",
    "            return ans\n",
    "\n",
    "   \n"
   ]
  },
  {
   "cell_type": "code",
   "execution_count": 32,
   "metadata": {},
   "outputs": [],
   "source": [
    "#Solution, inspired by Greg Hogg\n",
    "def twoSum(nums: list[int], target: int) -> list[int]:\n",
    "    hash_map = {}\n",
    "\n",
    "    for i, x in enumerate(nums):\n",
    "        hash_map[x] = i\n",
    "\n",
    "    for i, x in enumerate(nums):\n",
    "        need_for = target - x\n",
    "\n",
    "        if need_for in hash_map and i != hash_map[need_for]:\n",
    "            return [i, hash_map[need_for]]"
   ]
  },
  {
   "cell_type": "code",
   "execution_count": 25,
   "metadata": {},
   "outputs": [
    {
     "data": {
      "text/plain": [
       "[0, 1]"
      ]
     },
     "execution_count": 25,
     "metadata": {},
     "output_type": "execute_result"
    }
   ],
   "source": [
    "twoSum([3,2,1], 5)"
   ]
  },
  {
   "cell_type": "code",
   "execution_count": 26,
   "metadata": {},
   "outputs": [
    {
     "data": {
      "text/plain": [
       "[0, 2]"
      ]
     },
     "execution_count": 26,
     "metadata": {},
     "output_type": "execute_result"
    }
   ],
   "source": [
    "twoSum([3, 2,3, 5, 2], 6)"
   ]
  },
  {
   "cell_type": "code",
   "execution_count": 33,
   "metadata": {},
   "outputs": [
    {
     "name": "stdout",
     "output_type": "stream",
     "text": [
      "{3: 0, 2: 1, 4: 2}\n",
      "3\n",
      "4\n"
     ]
    },
    {
     "data": {
      "text/plain": [
       "[1, 2]"
      ]
     },
     "execution_count": 33,
     "metadata": {},
     "output_type": "execute_result"
    }
   ],
   "source": [
    "twoSum([3, 2, 4], 6)"
   ]
  }
 ],
 "metadata": {
  "kernelspec": {
   "display_name": "env",
   "language": "python",
   "name": "python3"
  },
  "language_info": {
   "codemirror_mode": {
    "name": "ipython",
    "version": 3
   },
   "file_extension": ".py",
   "mimetype": "text/x-python",
   "name": "python",
   "nbconvert_exporter": "python",
   "pygments_lexer": "ipython3",
   "version": "3.11.5"
  }
 },
 "nbformat": 4,
 "nbformat_minor": 2
}
