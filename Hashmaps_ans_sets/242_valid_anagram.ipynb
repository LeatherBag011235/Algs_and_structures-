{
 "cells": [
  {
   "cell_type": "code",
   "execution_count": 8,
   "metadata": {},
   "outputs": [],
   "source": [
    "def isAnagram( s: str, t: str) -> bool:\n",
    "\n",
    "    s_map = {}\n",
    "\n",
    "    for i in s:\n",
    "        if i in s_map:\n",
    "            s_map[i] += 1\n",
    "        else:\n",
    "            s_map[i] = 1\n",
    "    \n",
    "    for x in t:\n",
    "        if x in s_map:\n",
    "            s_map[x] -= 1\n",
    "\n",
    "            if s_map[x] == 0:\n",
    "                del s_map[x]\n",
    "        else: \n",
    "            return False \n",
    "            \n",
    "    if s_map: \n",
    "        return False\n",
    "    else:\n",
    "        return True "
   ]
  },
  {
   "cell_type": "code",
   "execution_count": 12,
   "metadata": {},
   "outputs": [
    {
     "data": {
      "text/plain": [
       "False"
      ]
     },
     "execution_count": 12,
     "metadata": {},
     "output_type": "execute_result"
    }
   ],
   "source": [
    "isAnagram(s='abasa', t='aaba')"
   ]
  }
 ],
 "metadata": {
  "kernelspec": {
   "display_name": "env",
   "language": "python",
   "name": "python3"
  },
  "language_info": {
   "codemirror_mode": {
    "name": "ipython",
    "version": 3
   },
   "file_extension": ".py",
   "mimetype": "text/x-python",
   "name": "python",
   "nbconvert_exporter": "python",
   "pygments_lexer": "ipython3",
   "version": "3.11.5"
  }
 },
 "nbformat": 4,
 "nbformat_minor": 2
}
