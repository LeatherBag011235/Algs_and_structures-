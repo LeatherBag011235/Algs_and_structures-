{
 "cells": [
  {
   "cell_type": "code",
   "execution_count": 2,
   "metadata": {},
   "outputs": [],
   "source": [
    "def magority_element(nums: list[int]) -> int:\n",
    "    magority_amount = (len(nums) // 2) + 1\n",
    "\n",
    "    hash_map = {}\n",
    "\n",
    "    for i in nums:\n",
    "        if i in hash_map:\n",
    "            hash_map[i] += 1\n",
    "            if hash_map[i] == magority_amount:\n",
    "                return i \n",
    "        else:\n",
    "            hash_map[i] = 1\n",
    "            if hash_map[i] == magority_amount:\n",
    "                return i"
   ]
  },
  {
   "cell_type": "code",
   "execution_count": 7,
   "metadata": {},
   "outputs": [
    {
     "data": {
      "text/plain": [
       "2"
      ]
     },
     "execution_count": 7,
     "metadata": {},
     "output_type": "execute_result"
    }
   ],
   "source": [
    "magority_element([2, 3, 2, 3, 1, 2, 2])"
   ]
  },
  {
   "cell_type": "code",
   "execution_count": 8,
   "metadata": {},
   "outputs": [
    {
     "data": {
      "text/plain": [
       "2"
      ]
     },
     "execution_count": 8,
     "metadata": {},
     "output_type": "execute_result"
    }
   ],
   "source": [
    "magority_element([2,2,2,2, 1, 1, 1])"
   ]
  }
 ],
 "metadata": {
  "kernelspec": {
   "display_name": "env",
   "language": "python",
   "name": "python3"
  },
  "language_info": {
   "codemirror_mode": {
    "name": "ipython",
    "version": 3
   },
   "file_extension": ".py",
   "mimetype": "text/x-python",
   "name": "python",
   "nbconvert_exporter": "python",
   "pygments_lexer": "ipython3",
   "version": "3.11.5"
  }
 },
 "nbformat": 4,
 "nbformat_minor": 2
}
