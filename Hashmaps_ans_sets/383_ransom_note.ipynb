{
 "cells": [
  {
   "cell_type": "code",
   "execution_count": 8,
   "metadata": {},
   "outputs": [],
   "source": [
    "def canConstruct(ransomNote: str, magazine: str) -> bool:\n",
    "    mag_hash_map = {}\n",
    "\n",
    "    for x in magazine:\n",
    "        if x in mag_hash_map:\n",
    "            mag_hash_map[x] += 1\n",
    "        else:\n",
    "            mag_hash_map[x] = 1\n",
    "    \n",
    "    #print(mag_hash_map)\n",
    "    for i in ransomNote:\n",
    "        if i in mag_hash_map and mag_hash_map[i] >= 1:\n",
    "            mag_hash_map[i] -= 1\n",
    "        else:\n",
    "            return False\n",
    "        \n",
    "    return True\n"
   ]
  },
  {
   "cell_type": "code",
   "execution_count": 14,
   "metadata": {},
   "outputs": [],
   "source": [
    "def canConstruct( ransomNote: str, magazine: str) -> bool:\n",
    "    magazine = list(magazine)\n",
    "    for x in ransomNote:\n",
    "        if x in magazine:\n",
    "            magazine.remove(x)\n",
    "        else:\n",
    "            return False\n",
    "    \n",
    "    return True\n",
    "    \n"
   ]
  },
  {
   "cell_type": "code",
   "execution_count": 13,
   "metadata": {},
   "outputs": [
    {
     "name": "stdout",
     "output_type": "stream",
     "text": [
      "['d']\n"
     ]
    }
   ],
   "source": [
    "canConstruct('a', 'ad')"
   ]
  },
  {
   "cell_type": "code",
   "execution_count": 15,
   "metadata": {},
   "outputs": [
    {
     "data": {
      "text/plain": [
       "True"
      ]
     },
     "execution_count": 15,
     "metadata": {},
     "output_type": "execute_result"
    }
   ],
   "source": [
    "canConstruct('aas', 'ddfdaass')"
   ]
  }
 ],
 "metadata": {
  "kernelspec": {
   "display_name": "env",
   "language": "python",
   "name": "python3"
  },
  "language_info": {
   "codemirror_mode": {
    "name": "ipython",
    "version": 3
   },
   "file_extension": ".py",
   "mimetype": "text/x-python",
   "name": "python",
   "nbconvert_exporter": "python",
   "pygments_lexer": "ipython3",
   "version": "3.11.5"
  }
 },
 "nbformat": 4,
 "nbformat_minor": 2
}
