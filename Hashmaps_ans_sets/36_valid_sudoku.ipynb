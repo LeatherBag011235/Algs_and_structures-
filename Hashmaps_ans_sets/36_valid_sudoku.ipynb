{
 "cells": [
  {
   "cell_type": "code",
   "execution_count": 65,
   "metadata": {},
   "outputs": [],
   "source": [
    "def isValidSudoku(board: list[list[str]]) -> bool:\n",
    "    #box\n",
    "    i = 0\n",
    "    j = 0\n",
    "    \n",
    "\n",
    "    for l in range(9):\n",
    "        row_hash = set()\n",
    "        col_hash = set()\n",
    "        box_hash = set()\n",
    "        \n",
    "        for k in range(9):\n",
    "            \n",
    "            if board[l][k] in row_hash and board[l][k] != '.':\n",
    "                print('row breakes')\n",
    "                return False\n",
    "            \n",
    "            row_hash.add(board[l][k])\n",
    "\n",
    "            if board[k][l] in col_hash and board[k][l] != '.':\n",
    "                print('col breakes')\n",
    "                return False \n",
    "            col_hash.add(board[k][l])\n",
    "\n",
    "            if board[i][j] in box_hash and board[i][j] != '.':\n",
    "                print('box breakes')\n",
    "                return False\n",
    "            box_hash.add(board[i][j])\n",
    "            \n",
    "            if j == 8 and k == 8:\n",
    "                j = 0\n",
    "                i += 1\n",
    "            elif (k + 1) % 3 == 0:\n",
    "                j += 1\n",
    "                i -= 2\n",
    "            else: \n",
    "                i += 1\n",
    "    \n",
    "    return True "
   ]
  },
  {
   "cell_type": "code",
   "execution_count": 67,
   "metadata": {},
   "outputs": [
    {
     "data": {
      "text/plain": [
       "True"
      ]
     },
     "execution_count": 67,
     "metadata": {},
     "output_type": "execute_result"
    }
   ],
   "source": [
    "isValidSudoku([['1', '4', '7', '.','.', '.','.', '.','.'], \n",
    "             ['2', '5', '8', '.','.', '.','.', '.','.'], \n",
    "             ['3', '6', '9', '.','.', '.','.', '.','.'],\n",
    "             ['.', '.', '.', '1','.', '.','.', '.','.'],\n",
    "             ['.', '.', '.', '.','.', '.','.', '.','.'],\n",
    "             ['.', '.', '.', '.','.', '.','.', '.','.'],\n",
    "             ['7', '.', '.', '.','.', '.','.', '.','.'],\n",
    "             ['8', '.', '.', '.','.', '.','.', '.','.'],\n",
    "             ['.', '.', '.', '.','.', '.','7', '8','9']])"
   ]
  },
  {
   "cell_type": "markdown",
   "metadata": {},
   "source": [
    "Check for faster solution "
   ]
  }
 ],
 "metadata": {
  "kernelspec": {
   "display_name": "env",
   "language": "python",
   "name": "python3"
  },
  "language_info": {
   "codemirror_mode": {
    "name": "ipython",
    "version": 3
   },
   "file_extension": ".py",
   "mimetype": "text/x-python",
   "name": "python",
   "nbconvert_exporter": "python",
   "pygments_lexer": "ipython3",
   "version": "3.11.5"
  }
 },
 "nbformat": 4,
 "nbformat_minor": 2
}
