{
 "cells": [
  {
   "cell_type": "code",
   "execution_count": 2,
   "metadata": {},
   "outputs": [],
   "source": [
    "import math"
   ]
  },
  {
   "cell_type": "code",
   "execution_count": 12,
   "metadata": {},
   "outputs": [],
   "source": [
    "# too slow\n",
    "def productExceptSelf(nums: list[int]) -> list[int]:\n",
    "    answer = []\n",
    "\n",
    "    for i in range(len(nums)):\n",
    "\n",
    "        sub_arr = nums[:i] + nums[i + 1 :]\n",
    "\n",
    "        answer.append(math.prod(sub_arr))\n",
    "\n",
    "    return answer"
   ]
  },
  {
   "cell_type": "code",
   "execution_count": 20,
   "metadata": {},
   "outputs": [],
   "source": [
    "# fast enough, to be accepted, but still very slow\n",
    "def productExceptSelf(nums: list[int]) -> list[int]:\n",
    "    left_arr = []\n",
    "\n",
    "    right_arr = []\n",
    "\n",
    "\n",
    "    curr_prod_r = 1\n",
    "\n",
    "    curr_prod_l = 1\n",
    "\n",
    "\n",
    "    i = 0\n",
    "\n",
    "    while i < len(nums):\n",
    "\n",
    "        right_arr.append(curr_prod_r)\n",
    "\n",
    "        curr_prod_r *= nums[i]\n",
    "\n",
    "        print(f\"curr_prod_r: {curr_prod_r}\")\n",
    "\n",
    "\n",
    "        left_arr.append(curr_prod_l)\n",
    "\n",
    "        curr_prod_l *= nums[-1 - i]\n",
    "\n",
    "        print(f\"curr_prod_l: {curr_prod_l}\")\n",
    "\n",
    "\n",
    "        i += 1\n",
    "\n",
    "    print(right_arr, left_arr)\n",
    "\n",
    "    answer = []\n",
    "\n",
    "\n",
    "    j = 0\n",
    "\n",
    "    while j < len(nums):\n",
    "\n",
    "        answer.append(right_arr[j] * left_arr[-1 - j])\n",
    "\n",
    "        j += 1\n",
    "\n",
    "\n",
    "    return answer"
   ]
  },
  {
   "cell_type": "code",
   "execution_count": 25,
   "metadata": {},
   "outputs": [],
   "source": [
    "# Thank u Greg\n",
    "def productExceptSelf(nums: list[int]) -> list[int]:\n",
    "    n = len(nums)\n",
    "    l_arr = [0] * n\n",
    "    r_arr = [0] * n\n",
    "\n",
    "    prod_l = 1\n",
    "    prod_r = 1\n",
    "\n",
    "    for i in range(n):\n",
    "        r_arr[i] = prod_r\n",
    "        prod_r *= nums[i]\n",
    "\n",
    "        l_arr[-1 - i] = prod_l\n",
    "        prod_l *= nums[-1 - i]\n",
    "\n",
    "    answer = [l * r for l, r in zip(l_arr, r_arr)]\n",
    "\n",
    "    return answer"
   ]
  },
  {
   "cell_type": "code",
   "execution_count": 26,
   "metadata": {},
   "outputs": [
    {
     "data": {
      "text/plain": [
       "[24, 12, 8, 6]"
      ]
     },
     "execution_count": 26,
     "metadata": {},
     "output_type": "execute_result"
    }
   ],
   "source": [
    "productExceptSelf(nums=[1, 2, 3, 4])"
   ]
  },
  {
   "cell_type": "code",
   "execution_count": null,
   "metadata": {},
   "outputs": [],
   "source": []
  }
 ],
 "metadata": {
  "kernelspec": {
   "display_name": "env",
   "language": "python",
   "name": "python3"
  },
  "language_info": {
   "codemirror_mode": {
    "name": "ipython",
    "version": 3
   },
   "file_extension": ".py",
   "mimetype": "text/x-python",
   "name": "python",
   "nbconvert_exporter": "python",
   "pygments_lexer": "ipython3",
   "version": "3.11.5"
  }
 },
 "nbformat": 4,
 "nbformat_minor": 2
}
