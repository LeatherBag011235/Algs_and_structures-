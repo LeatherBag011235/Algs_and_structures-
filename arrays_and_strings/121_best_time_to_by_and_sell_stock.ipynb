{
 "cells": [
  {
   "cell_type": "code",
   "execution_count": 21,
   "metadata": {},
   "outputs": [],
   "source": [
    "import numpy as np"
   ]
  },
  {
   "cell_type": "code",
   "execution_count": 11,
   "metadata": {},
   "outputs": [],
   "source": [
    "#too slow\n",
    "\n",
    "def maxProfit(prices) -> int:\n",
    "    profit = 0\n",
    "\n",
    "    for i, x in enumerate(prices):\n",
    "\n",
    "        subprices = prices[i+1:]\n",
    "\n",
    "        for y in subprices:\n",
    "            profit = max(profit, y-x)\n",
    "\n",
    "    return profit \n",
    "\n"
   ]
  },
  {
   "cell_type": "code",
   "execution_count": 31,
   "metadata": {},
   "outputs": [],
   "source": [
    "#too slow\n",
    "def maxProfit(prices) -> int:\n",
    "\n",
    "    profit = 0\n",
    "\n",
    "    while prices:\n",
    "        start_price = prices[0]\n",
    "        \n",
    "        if start_price == max(prices):\n",
    "            prices.pop(0)\n",
    "            continue\n",
    "        else:\n",
    "            prices.pop(0)\n",
    "            profit = max(profit, max(prices) - start_price)\n",
    "\n",
    "    return profit\n"
   ]
  },
  {
   "cell_type": "code",
   "execution_count": 66,
   "metadata": {},
   "outputs": [],
   "source": [
    "#the fastest one  \n",
    "def maxProfit(prices) -> int:\n",
    "    max_profit = 0\n",
    "    min_price = prices[0]\n",
    "\n",
    "    for x in prices:\n",
    "        if x < min_price:\n",
    "            min_price = x \n",
    "            \n",
    "        if max_profit < x - min_price:\n",
    "            max_profit = x - min_price\n",
    "\n",
    "    return max_profit "
   ]
  },
  {
   "cell_type": "code",
   "execution_count": 63,
   "metadata": {},
   "outputs": [],
   "source": [
    "#work good\n",
    "def maxProfit(prices) -> int:\n",
    "    max_profit = 0\n",
    "    min_price = prices[0]\n",
    "\n",
    "    for x in prices:\n",
    "        \n",
    "        if x < min_price:\n",
    "            \n",
    "            min_price = x \n",
    "\n",
    "        max_profit = max(max_profit, x - min_price)\n",
    "\n",
    "    return max_profit "
   ]
  },
  {
   "cell_type": "code",
   "execution_count": 59,
   "metadata": {},
   "outputs": [
    {
     "name": "stdout",
     "output_type": "stream",
     "text": [
      "x: 1\n",
      "1\n"
     ]
    },
    {
     "data": {
      "text/plain": [
       "5"
      ]
     },
     "execution_count": 59,
     "metadata": {},
     "output_type": "execute_result"
    }
   ],
   "source": [
    "maxProfit([7,1,5,3,6,4])"
   ]
  },
  {
   "cell_type": "code",
   "execution_count": 69,
   "metadata": {},
   "outputs": [
    {
     "data": {
      "text/plain": [
       "90"
      ]
     },
     "execution_count": 69,
     "metadata": {},
     "output_type": "execute_result"
    }
   ],
   "source": [
    "maxProfit(list(np.random.randint(10, 100 + 1, 10000000)))"
   ]
  }
 ],
 "metadata": {
  "kernelspec": {
   "display_name": "env",
   "language": "python",
   "name": "python3"
  },
  "language_info": {
   "codemirror_mode": {
    "name": "ipython",
    "version": 3
   },
   "file_extension": ".py",
   "mimetype": "text/x-python",
   "name": "python",
   "nbconvert_exporter": "python",
   "pygments_lexer": "ipython3",
   "version": "3.11.5"
  }
 },
 "nbformat": 4,
 "nbformat_minor": 2
}
