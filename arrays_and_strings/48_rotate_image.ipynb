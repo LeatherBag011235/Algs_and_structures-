{
 "cells": [
  {
   "cell_type": "code",
   "execution_count": 93,
   "metadata": {},
   "outputs": [],
   "source": [
    "def rotate( matrix: list[list[int]]) -> None:\n",
    "        \"\"\"\n",
    "        Do not return anything, modify matrix in-place instead.\n",
    "        \"\"\"\n",
    "        n = len(matrix)\n",
    "\n",
    "        if len(matrix) == 1:\n",
    "                return \n",
    "        else:\n",
    "                \n",
    "            taken_arr = matrix[0][:]\n",
    "            update_arr = [0] * n\n",
    "\n",
    "            #for _ in range((n // 2) * 4):\n",
    "            i = 0\n",
    "            j = n - 1\n",
    "            direction = 1\n",
    "            #for _ in range(2):\n",
    "            \n",
    "            print(f'direction: {direction}')\n",
    "            for k in range(n):\n",
    "                update_arr[k] = matrix[i][j]\n",
    "                matrix[i][j] = taken_arr[k]\n",
    "\n",
    "                i += direction \n",
    "\n",
    "            taken_arr = update_arr[:]    \n",
    "            i -= direction\n",
    "\n",
    "            print(f'next iter: {matrix}')\n",
    "            print(taken_arr)\n",
    "            print(f'i: {i} \\nj: {j}')\n",
    "\n",
    "            for k in range(n):\n",
    "                update_arr[k] = matrix[i][j]\n",
    "                print(matrix[i][j])\n",
    "                matrix[i][j] = taken_arr[k]\n",
    "\n",
    "                j -= direction\n",
    "\n",
    "            taken_arr = update_arr[:]    \n",
    "            j += direction \n",
    "\n",
    "            print(f'next iter: {matrix}')\n",
    "            print(taken_arr)\n",
    "            print(f'i: {i} \\nj: {j}')\n",
    "\n",
    "            direction *= -1"
   ]
  },
  {
   "cell_type": "code",
   "execution_count": 94,
   "metadata": {},
   "outputs": [
    {
     "name": "stdout",
     "output_type": "stream",
     "text": [
      "direction: 1\n",
      "next iter: [[1, 2, 1], [4, 5, 2], [7, 8, 3]]\n",
      "[3, 6, 9]\n",
      "i: 2 \n",
      "j: 2\n",
      "3\n",
      "8\n",
      "7\n",
      "next iter: [[1, 2, 1], [4, 5, 2], [9, 6, 3]]\n",
      "[3, 8, 7]\n",
      "i: 2 \n",
      "j: 0\n"
     ]
    }
   ],
   "source": [
    "rotate(matrix = [[1,2,3],[4,5,6],[7,8,9]])"
   ]
  }
 ],
 "metadata": {
  "kernelspec": {
   "display_name": "env",
   "language": "python",
   "name": "python3"
  },
  "language_info": {
   "codemirror_mode": {
    "name": "ipython",
    "version": 3
   },
   "file_extension": ".py",
   "mimetype": "text/x-python",
   "name": "python",
   "nbconvert_exporter": "python",
   "pygments_lexer": "ipython3",
   "version": "3.11.5"
  }
 },
 "nbformat": 4,
 "nbformat_minor": 2
}
