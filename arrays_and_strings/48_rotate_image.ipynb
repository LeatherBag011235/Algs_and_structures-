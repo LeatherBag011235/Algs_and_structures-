{
 "cells": [
  {
   "cell_type": "code",
   "execution_count": 197,
   "metadata": {},
   "outputs": [],
   "source": [
    "#full solution\n",
    "def rotate( matrix: list[list[int]]) -> None:\n",
    "    \"\"\"\n",
    "    Do not return anything, modify matrix in-place instead.\n",
    "    \"\"\"\n",
    "    n = len(matrix)\n",
    "\n",
    "    if n == 1:\n",
    "        return \n",
    "    else:\n",
    "\n",
    "        # first we need to loop through submatrixies [0][0:n], [0:n][n-1], [n-1][0:n:-1], [0:n:-1][0]\n",
    "        #second we need to loop through submatrixies [0+1][0+1:n-1], [0+1:n-1][n-1], [n-1][0+1:n-1:-1], [0+1:n-1:-1][0+1]\n",
    "        #So, effectivly we add 1 to first index and subtruct 1 from second, that means that we can run this procedure until they are =><=  \n",
    "\n",
    "        i = 0\n",
    "        j = n \n",
    "    \n",
    "        while i < j - 1:\n",
    "\n",
    "            up_row = [0]*(j-i)\n",
    "            l = 0\n",
    "\n",
    "            for _ in range(i, j):\n",
    "                up_row[l] = matrix[j-1-l][i]\n",
    "                \n",
    "                l += 1\n",
    "            \n",
    "            r_col = matrix[i][i:j]\n",
    "\n",
    "            down_row = [0]*(j-i)\n",
    "            l = 0\n",
    "        \n",
    "            for _ in range(i, j):\n",
    "        \n",
    "                down_row[-1-l] = matrix[i+l][j-1]\n",
    "                l += 1\n",
    "            \n",
    "            l_col = matrix[j-1][i:j]\n",
    "\n",
    "            matrix[i][i:j] = up_row\n",
    "\n",
    "            l = 0\n",
    "\n",
    "            for k in range(i, j):\n",
    "                matrix[k][j-1] = r_col[l]\n",
    "        \n",
    "                l += 1\n",
    "            \n",
    "            matrix[j-1][i:j] = down_row\n",
    "\n",
    "            l = 0\n",
    "\n",
    "            for k in range(i, j):\n",
    "               \n",
    "               matrix[k][i] = l_col[l]\n",
    "               l += 1\n",
    "            \n",
    "            i += 1\n",
    "            j -= 1 \n",
    "\n",
    "        return matrix           "
   ]
  },
  {
   "cell_type": "code",
   "execution_count": 9,
   "metadata": {},
   "outputs": [],
   "source": [
    "def get_up_row(matrix, i, j):\n",
    "    up_row = [0]*(j-i)\n",
    "    l = 0\n",
    "\n",
    "    for _ in range(i, j):\n",
    "        up_row[l] = matrix[j-1-l][i]\n",
    "        \n",
    "        l += 1\n",
    "\n",
    "    return up_row\n",
    "\n",
    "def get_down_row(matrix, i, j):\n",
    "    down_row = [0]*(j-i)\n",
    "    l = 0\n",
    "\n",
    "    for _ in range(i, j):\n",
    "\n",
    "        down_row[-1-l] = matrix[i+l][j-1]\n",
    "        l += 1\n",
    "    \n",
    "    return down_row   \n",
    "\n",
    "def assign_r_col(matrix, i, j, r_col):\n",
    "    l = 0\n",
    "\n",
    "    for k in range(i, j):\n",
    "        matrix[k][j-1] = r_col[l]\n",
    "\n",
    "        l += 1\n",
    "    \n",
    "    return matrix\n",
    "\n",
    "def assign_l_col(matrix, i, j, l_col):\n",
    "    l = 0\n",
    "\n",
    "    for k in range(i, j):\n",
    "       \n",
    "       matrix[k][i] = l_col[l]\n",
    "       l += 1\n",
    "    \n",
    "    return matrix \n",
    "\n",
    "\n"
   ]
  },
  {
   "cell_type": "code",
   "execution_count": 1,
   "metadata": {},
   "outputs": [],
   "source": [
    "def rotate( matrix: list[list[int]]) -> None:\n",
    "    \"\"\"\n",
    "    Do not return anything, modify matrix in-place instead.\n",
    "    \"\"\"\n",
    "    n = len(matrix)\n",
    "\n",
    "    if n == 1:\n",
    "        return \n",
    "    else:\n",
    "\n",
    "        # first we need to loop through submatrixies [0][0:n], [0:n][n-1], [n-1][0:n:-1], [0:n:-1][0]\n",
    "        #second we need to loop through submatrixies [0+1][0+1:n-1], [0+1:n-1][n-1], [n-1][0+1:n-1:-1], [0+1:n-1:-1][0+1]\n",
    "        #So, effectivly we add 1 to first index and subtruct 1 from second, that means that we can run this procedure until they are =><=  \n",
    "\n",
    "        i = 0\n",
    "        j = n \n",
    "    \n",
    "        while i < j - 1:\n",
    "\n",
    "            #creating needed arrays:\n",
    "            up_row = get_up_row(matrix, i, j)\n",
    "            print(up_row)\n",
    "            r_col = matrix[i][i:j]\n",
    "            down_row = get_down_row(matrix, i, j)\n",
    "            l_col = matrix[j-1][i:j]\n",
    "\n",
    "            #assinging arrays in place:\n",
    "            matrix[i][i:j] = up_row\n",
    "            matrix = assign_r_col(matrix, i, j, r_col)\n",
    "            matrix[j-1][i:j] = down_row\n",
    "            matrix = assign_l_col(matrix, i, j, l_col)\n",
    "    \n",
    "            i += 1\n",
    "            j -= 1 \n",
    "        return matrix"
   ]
  },
  {
   "cell_type": "code",
   "execution_count": 218,
   "metadata": {},
   "outputs": [],
   "source": []
  },
  {
   "cell_type": "code",
   "execution_count": 10,
   "metadata": {},
   "outputs": [
    {
     "data": {
      "text/plain": [
       "[[21, 16, 11, 6, 1],\n",
       " [22, 17, 12, 7, 2],\n",
       " [23, 18, 13, 8, 3],\n",
       " [24, 19, 14, 9, 4],\n",
       " [25, 20, 15, 10, 5]]"
      ]
     },
     "execution_count": 10,
     "metadata": {},
     "output_type": "execute_result"
    }
   ],
   "source": [
    "rotate([[1, 2, 3, 4, 5],\n",
    "        [6, 7, 8, 9, 10],\n",
    "        [11,12,13,14,15],\n",
    "        [16,17,18,19,20],\n",
    "        [21,22,23,24,25]])"
   ]
  },
  {
   "cell_type": "code",
   "execution_count": null,
   "metadata": {},
   "outputs": [],
   "source": [
    "[[21,16,11,6,1],\n",
    " [22,17,12,7,2],\n",
    " [23,18,13,8,3],\n",
    " [24,19,14,9,4],\n",
    " [25,20,15,10,5]]"
   ]
  },
  {
   "cell_type": "code",
   "execution_count": 219,
   "metadata": {},
   "outputs": [
    {
     "data": {
      "text/plain": [
       "[[7, 4, 1], [8, 5, 2], [9, 6, 3]]"
      ]
     },
     "execution_count": 219,
     "metadata": {},
     "output_type": "execute_result"
    }
   ],
   "source": [
    "rotate(matrix = [[1,2,3],[4,5,6],[7,8,9]])"
   ]
  },
  {
   "cell_type": "code",
   "execution_count": 220,
   "metadata": {},
   "outputs": [
    {
     "data": {
      "text/plain": [
       "[[15, 13, 2, 5], [14, 3, 4, 1], [12, 16, 8, 9], [16, 7, 10, 11]]"
      ]
     },
     "execution_count": 220,
     "metadata": {},
     "output_type": "execute_result"
    }
   ],
   "source": [
    "rotate([[5,1,9,11], [2,4,8,10], [13,3,16,7], [15,14,12,16]])"
   ]
  },
  {
   "cell_type": "code",
   "execution_count": 221,
   "metadata": {},
   "outputs": [
    {
     "data": {
      "text/plain": [
       "[[4, 1], [3, 2]]"
      ]
     },
     "execution_count": 221,
     "metadata": {},
     "output_type": "execute_result"
    }
   ],
   "source": [
    "rotate([[1,2], [4,3]])"
   ]
  },
  {
   "cell_type": "code",
   "execution_count": null,
   "metadata": {},
   "outputs": [],
   "source": [
    "#check this \n",
    "[[1,2,3,4,5],[6,7,8,9,10],[11,12,13,14,15],[16,17,18,19,20],[21,22,23,24,25]]"
   ]
  },
  {
   "cell_type": "markdown",
   "metadata": {},
   "source": [
    "expected\n",
    "\n",
    "[[21,16,11,6,1],[22,17,12,7,2],[23,18,13,8,3],[24,19,14,9,4],[25,20,15,10,5]]"
   ]
  },
  {
   "cell_type": "code",
   "execution_count": null,
   "metadata": {},
   "outputs": [],
   "source": [
    "#Cool solution from Greg Hogg\n",
    "def rotate(matrix: list[list[int]]) -> None:\n",
    "    n = len(matrix)\n",
    "\n",
    "    #Transpose the matrix. Note that we have started second loop from i+1 otherwise we turn it arpound twise and retrive the same matrix\n",
    "    for i in range(n):\n",
    "        for j in range(i+1, n):\n",
    "            matrix[i][j], matrix[j][i] = matrix[j][i], matrix[i][j]\n",
    "\n",
    "    #Now we need to reflect the matrix \n",
    "    for i in range(n):\n",
    "        for j in range(n // 2):\n",
    "            matrix[i][j], matrix[i][n-1-j] = matrix[i][n-1-j], matrix[i][j]\n",
    "\n",
    "    return matrix"
   ]
  }
 ],
 "metadata": {
  "kernelspec": {
   "display_name": "env",
   "language": "python",
   "name": "python3"
  },
  "language_info": {
   "codemirror_mode": {
    "name": "ipython",
    "version": 3
   },
   "file_extension": ".py",
   "mimetype": "text/x-python",
   "name": "python",
   "nbconvert_exporter": "python",
   "pygments_lexer": "ipython3",
   "version": "3.11.5"
  }
 },
 "nbformat": 4,
 "nbformat_minor": 2
}
