{
 "cells": [
  {
   "cell_type": "code",
   "execution_count": 32,
   "metadata": {},
   "outputs": [],
   "source": [
    "# my solution\n",
    "def merge(intervals: list[list[int]]) -> list[list[int]]:\n",
    "\n",
    "    n = len(intervals)\n",
    "\n",
    "\n",
    "    intervals.sort(key=lambda sublist: sublist[0])\n",
    "\n",
    "\n",
    "    intervals_prep = [intervals[0]]\n",
    "\n",
    "    highest_bound = intervals[0][1]\n",
    "\n",
    "    for x in range(1, n):\n",
    "\n",
    "        if x > 1:\n",
    "            highest_bound = max(highest_bound, intervals[x - 1][1])\n",
    "\n",
    "        if intervals[x][1] > highest_bound:\n",
    "\n",
    "            intervals_prep.append(intervals[x])\n",
    "\n",
    "\n",
    "    intervals_prep.append([float(\"inf\")])\n",
    "\n",
    "    answer = []\n",
    "\n",
    "\n",
    "    i = 0\n",
    "\n",
    "\n",
    "    while i < len(intervals_prep) - 1:\n",
    "\n",
    "        intr_start = intervals_prep[i][0]\n",
    "\n",
    "        if intervals_prep[i][1] < intervals_prep[i + 1][0]:\n",
    "            intr_end = intervals_prep[i][1]\n",
    "            answer.append([intr_start, intr_end])\n",
    "\n",
    "            i += 1\n",
    "\n",
    "        else:\n",
    "            j = 1\n",
    "            while intervals_prep[j][1] >= intervals_prep[i + 1][0]:\n",
    "                i += 1\n",
    "\n",
    "                if intervals_prep[j][1] <= intervals_prep[j + 1][1]:\n",
    "\n",
    "                    j += 1\n",
    "\n",
    "                intr_end = intervals_prep[j][1]\n",
    "\n",
    "            answer.append([intr_start, intr_end])\n",
    "\n",
    "            i += 1\n",
    "\n",
    "    return answer"
   ]
  },
  {
   "cell_type": "code",
   "execution_count": 48,
   "metadata": {},
   "outputs": [],
   "source": [
    "#best solution on leetcode\n",
    "def merge(intervals: list[list[int]]) -> list[list[int]]:\n",
    "\n",
    "    intervals = sorted(intervals, key=lambda x: x[0])\n",
    "    print(intervals)\n",
    "    ans = [intervals[0]]\n",
    "\n",
    "    for i in range(1, len(intervals)):\n",
    "        if intervals[i][0]<=ans[-1][1]:\n",
    "            print(f'ans: {ans}')\n",
    "            out = ans.pop()\n",
    "            print(out)\n",
    "            ans.append([out[0], max(out[1],intervals[i][1])])\n",
    "        else:\n",
    "            ans.append(intervals[i])\n",
    "    return ans\n",
    "    \n"
   ]
  },
  {
   "cell_type": "code",
   "execution_count": 49,
   "metadata": {},
   "outputs": [
    {
     "name": "stdout",
     "output_type": "stream",
     "text": [
      "[[0, 0], [0, 0], [1, 1], [1, 3], [2, 3], [2, 2], [3, 5], [3, 3], [4, 4], [4, 6], [5, 5]]\n",
      "ans: [[0, 0]]\n",
      "[0, 0]\n",
      "ans: [[0, 0], [1, 1]]\n",
      "[1, 1]\n",
      "ans: [[0, 0], [1, 3]]\n",
      "[1, 3]\n",
      "ans: [[0, 0], [1, 3]]\n",
      "[1, 3]\n",
      "ans: [[0, 0], [1, 3]]\n",
      "[1, 3]\n",
      "ans: [[0, 0], [1, 5]]\n",
      "[1, 5]\n",
      "ans: [[0, 0], [1, 5]]\n",
      "[1, 5]\n",
      "ans: [[0, 0], [1, 5]]\n",
      "[1, 5]\n",
      "ans: [[0, 0], [1, 6]]\n",
      "[1, 6]\n"
     ]
    },
    {
     "data": {
      "text/plain": [
       "[[0, 0], [1, 6]]"
      ]
     },
     "execution_count": 49,
     "metadata": {},
     "output_type": "execute_result"
    }
   ],
   "source": [
    "merge([[4, 4],   [3, 5],[2, 3], [1, 1], [3, 3], [1, 3],[2, 2], [0, 0],[5, 5],[0, 0],[4, 6],])"
   ]
  },
  {
   "cell_type": "markdown",
   "metadata": {},
   "source": [
    "[[0,0],[1,6]]"
   ]
  },
  {
   "cell_type": "code",
   "execution_count": 22,
   "metadata": {},
   "outputs": [
    {
     "name": "stdout",
     "output_type": "stream",
     "text": [
      "[[0, 1], [0, 2], [0, 0], [0, 1], [0, 0], [2, 4], [3, 4], [3, 5], [4, 5], [5, 5]]\n",
      "highest_bound: 1\n",
      "2 > 1\n",
      "highest_bound: 2\n",
      "highest_bound: 1\n",
      "highest_bound: 1\n",
      "highest_bound: 1\n",
      "4 > 1\n",
      "highest_bound: 4\n",
      "highest_bound: 4\n",
      "5 > 4\n",
      "highest_bound: 5\n",
      "highest_bound: 5\n",
      "[[0, 1], [0, 2], [2, 4], [3, 5], [inf]]\n",
      "i: 1 \n",
      "j: 1\n",
      "i: 2 \n",
      "j: 2\n",
      "i: 3 \n",
      "j: 3\n"
     ]
    },
    {
     "data": {
      "text/plain": [
       "[[0, 5]]"
      ]
     },
     "execution_count": 22,
     "metadata": {},
     "output_type": "execute_result"
    }
   ],
   "source": [
    "merge(\n",
    "    intervals=[\n",
    "        [0, 1],\n",
    "        [4, 5],\n",
    "        [0, 2],\n",
    "        [3, 4],\n",
    "        [2, 4],\n",
    "        [0, 0],\n",
    "        [3, 5],\n",
    "        [0, 1],\n",
    "        [0, 0],\n",
    "        [5, 5],\n",
    "    ]\n",
    ")"
   ]
  },
  {
   "cell_type": "code",
   "execution_count": 103,
   "metadata": {},
   "outputs": [
    {
     "name": "stdout",
     "output_type": "stream",
     "text": [
      "[[2, 3], [2, 2], [3, 4], [3, 4], [5, 5]]\n",
      "[[2, 3], [3, 4], [5, 5], [inf]]\n",
      "i: 1 \n",
      "j: 1\n"
     ]
    },
    {
     "data": {
      "text/plain": [
       "[[2, 4], [5, 5]]"
      ]
     },
     "execution_count": 103,
     "metadata": {},
     "output_type": "execute_result"
    }
   ],
   "source": [
    "merge(intervals=[[2, 3], [5, 5], [2, 2], [3, 4], [3, 4]])"
   ]
  },
  {
   "cell_type": "code",
   "execution_count": 105,
   "metadata": {},
   "outputs": [
    {
     "name": "stdout",
     "output_type": "stream",
     "text": [
      "[[0, 2], [1, 4], [3, 5]]\n",
      "[[0, 2], [1, 4], [3, 5], [inf]]\n",
      "i: 1 \n",
      "j: 1\n",
      "i: 2 \n",
      "j: 2\n"
     ]
    },
    {
     "data": {
      "text/plain": [
       "[[0, 5]]"
      ]
     },
     "execution_count": 105,
     "metadata": {},
     "output_type": "execute_result"
    }
   ],
   "source": [
    "merge(intervals=[[1, 4], [0, 2], [3, 5]])"
   ]
  },
  {
   "cell_type": "code",
   "execution_count": 106,
   "metadata": {},
   "outputs": [
    {
     "name": "stdout",
     "output_type": "stream",
     "text": [
      "[[1, 4], [2, 3]]\n",
      "[[1, 4], [inf]]\n"
     ]
    },
    {
     "data": {
      "text/plain": [
       "[[1, 4]]"
      ]
     },
     "execution_count": 106,
     "metadata": {},
     "output_type": "execute_result"
    }
   ],
   "source": [
    "merge([[1, 4], [2, 3]])"
   ]
  },
  {
   "cell_type": "code",
   "execution_count": 107,
   "metadata": {},
   "outputs": [
    {
     "name": "stdout",
     "output_type": "stream",
     "text": [
      "[[0, 2], [1, 4], [5, 6], [7, 8]]\n",
      "[[0, 2], [1, 4], [5, 6], [7, 8], [inf]]\n",
      "i: 1 \n",
      "j: 1\n"
     ]
    },
    {
     "data": {
      "text/plain": [
       "[[0, 4], [5, 6], [7, 8]]"
      ]
     },
     "execution_count": 107,
     "metadata": {},
     "output_type": "execute_result"
    }
   ],
   "source": [
    "merge([[1, 4], [0, 2], [5, 6], [7, 8]])"
   ]
  },
  {
   "cell_type": "code",
   "execution_count": 108,
   "metadata": {},
   "outputs": [
    {
     "name": "stdout",
     "output_type": "stream",
     "text": [
      "[[1, 3], [2, 6], [8, 10], [15, 18]]\n",
      "[[1, 3], [2, 6], [8, 10], [15, 18], [inf]]\n",
      "i: 1 \n",
      "j: 1\n"
     ]
    },
    {
     "data": {
      "text/plain": [
       "[[1, 6], [8, 10], [15, 18]]"
      ]
     },
     "execution_count": 108,
     "metadata": {},
     "output_type": "execute_result"
    }
   ],
   "source": [
    "merge(intervals=[[1, 3], [2, 6], [8, 10], [15, 18]])"
   ]
  },
  {
   "cell_type": "code",
   "execution_count": 109,
   "metadata": {},
   "outputs": [
    {
     "name": "stdout",
     "output_type": "stream",
     "text": [
      "[[0, 4], [1, 4]]\n",
      "[[0, 4], [inf]]\n"
     ]
    },
    {
     "data": {
      "text/plain": [
       "[[0, 4]]"
      ]
     },
     "execution_count": 109,
     "metadata": {},
     "output_type": "execute_result"
    }
   ],
   "source": [
    "merge([[1, 4], [0, 4]])"
   ]
  }
 ],
 "metadata": {
  "kernelspec": {
   "display_name": "env",
   "language": "python",
   "name": "python3"
  },
  "language_info": {
   "codemirror_mode": {
    "name": "ipython",
    "version": 3
   },
   "file_extension": ".py",
   "mimetype": "text/x-python",
   "name": "python",
   "nbconvert_exporter": "python",
   "pygments_lexer": "ipython3",
   "version": "3.11.5"
  }
 },
 "nbformat": 4,
 "nbformat_minor": 2
}
