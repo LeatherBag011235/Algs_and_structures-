{
 "cells": [
  {
   "cell_type": "code",
   "execution_count": 54,
   "metadata": {},
   "outputs": [],
   "source": [
    "def get_row(matrix, last_row):\n",
    "\n",
    "    if last_row == False:\n",
    "        row = matrix[0]\n",
    "        matrix.pop(0)\n",
    "\n",
    "        last_row = True\n",
    "    \n",
    "    else:\n",
    "        row = matrix[-1]\n",
    "        row.reverse()\n",
    "        matrix.pop(-1)\n",
    "\n",
    "        last_row = False\n",
    "    \n",
    "    return row, last_row"
   ]
  },
  {
   "cell_type": "code",
   "execution_count": 64,
   "metadata": {},
   "outputs": [],
   "source": [
    "def get_col(matrix, last_col):\n",
    "    col = []\n",
    "\n",
    "    if last_col == True:\n",
    "        \n",
    "        for x in matrix:\n",
    "            col.append(x[-1])\n",
    "            x.pop(-1)\n",
    "\n",
    "        last_col = False\n",
    "        \n",
    "    else:\n",
    "        for x in matrix:\n",
    "            col.append(x[0])\n",
    "            x.pop(0)\n",
    "            \n",
    "        col.reverse()\n",
    "        \n",
    "        last_col = True\n",
    "    \n",
    "    return col, last_col"
   ]
  },
  {
   "cell_type": "code",
   "execution_count": 73,
   "metadata": {},
   "outputs": [],
   "source": [
    "def spiralOrder(matrix: list[list[int]]) -> list[int]:\n",
    "    if len(matrix[0]) == 1:\n",
    "        return [x[0] for x in matrix]\n",
    "    elif len(matrix) == 1:\n",
    "        return matrix[0]\n",
    "    else:\n",
    "\n",
    "        ans = []\n",
    "        \n",
    "        last_row = False\n",
    "        last_col = True\n",
    "    \n",
    "        while matrix:\n",
    "        \n",
    "            if last_row == False:\n",
    "                row = matrix[0]\n",
    "                matrix.pop(0)\n",
    "    \n",
    "                last_row = True\n",
    "    \n",
    "            else:\n",
    "                row = matrix[-1]\n",
    "                row.reverse()\n",
    "                matrix.pop(-1)\n",
    "    \n",
    "                last_row = False\n",
    "    \n",
    "            ans.extend(row)\n",
    "    \n",
    "            col = []\n",
    "    \n",
    "            if last_col == True:\n",
    "            \n",
    "                for x in matrix:\n",
    "                    col.append(x[-1])\n",
    "                    x.pop(-1)\n",
    "    \n",
    "                last_col = False\n",
    "    \n",
    "            else:\n",
    "                for x in matrix:\n",
    "                    col.append(x[0])\n",
    "                    x.pop(0)\n",
    "    \n",
    "                col.reverse()\n",
    "    \n",
    "                last_col = True\n",
    "        \n",
    "            ans.extend(col)\n",
    "            \n",
    "        return ans"
   ]
  },
  {
   "cell_type": "code",
   "execution_count": 75,
   "metadata": {},
   "outputs": [
    {
     "ename": "IndexError",
     "evalue": "list index out of range",
     "output_type": "error",
     "traceback": [
      "\u001b[1;31m---------------------------------------------------------------------------\u001b[0m",
      "\u001b[1;31mIndexError\u001b[0m                                Traceback (most recent call last)",
      "Cell \u001b[1;32mIn[75], line 1\u001b[0m\n\u001b[1;32m----> 1\u001b[0m \u001b[43mspiralOrder\u001b[49m\u001b[43m(\u001b[49m\u001b[43m[\u001b[49m\u001b[43m[\u001b[49m\u001b[38;5;241;43m2\u001b[39;49m\u001b[43m,\u001b[49m\u001b[38;5;241;43m3\u001b[39;49m\u001b[43m,\u001b[49m\u001b[38;5;241;43m4\u001b[39;49m\u001b[43m]\u001b[49m\u001b[43m,\u001b[49m\u001b[43m[\u001b[49m\u001b[38;5;241;43m5\u001b[39;49m\u001b[43m,\u001b[49m\u001b[38;5;241;43m6\u001b[39;49m\u001b[43m,\u001b[49m\u001b[38;5;241;43m7\u001b[39;49m\u001b[43m]\u001b[49m\u001b[43m,\u001b[49m\u001b[43m[\u001b[49m\u001b[38;5;241;43m8\u001b[39;49m\u001b[43m,\u001b[49m\u001b[38;5;241;43m9\u001b[39;49m\u001b[43m,\u001b[49m\u001b[38;5;241;43m10\u001b[39;49m\u001b[43m]\u001b[49m\u001b[43m,\u001b[49m\u001b[43m[\u001b[49m\u001b[38;5;241;43m11\u001b[39;49m\u001b[43m,\u001b[49m\u001b[38;5;241;43m12\u001b[39;49m\u001b[43m,\u001b[49m\u001b[38;5;241;43m13\u001b[39;49m\u001b[43m]\u001b[49m\u001b[43m,\u001b[49m\u001b[43m[\u001b[49m\u001b[38;5;241;43m14\u001b[39;49m\u001b[43m,\u001b[49m\u001b[38;5;241;43m15\u001b[39;49m\u001b[43m,\u001b[49m\u001b[38;5;241;43m16\u001b[39;49m\u001b[43m]\u001b[49m\u001b[43m]\u001b[49m\u001b[43m)\u001b[49m\n",
      "Cell \u001b[1;32mIn[73], line 42\u001b[0m, in \u001b[0;36mspiralOrder\u001b[1;34m(matrix)\u001b[0m\n\u001b[0;32m     40\u001b[0m \u001b[38;5;28;01melse\u001b[39;00m:\n\u001b[0;32m     41\u001b[0m     \u001b[38;5;28;01mfor\u001b[39;00m x \u001b[38;5;129;01min\u001b[39;00m matrix:\n\u001b[1;32m---> 42\u001b[0m         col\u001b[38;5;241m.\u001b[39mappend(\u001b[43mx\u001b[49m\u001b[43m[\u001b[49m\u001b[38;5;241;43m0\u001b[39;49m\u001b[43m]\u001b[49m)\n\u001b[0;32m     43\u001b[0m         x\u001b[38;5;241m.\u001b[39mpop(\u001b[38;5;241m0\u001b[39m)\n\u001b[0;32m     45\u001b[0m     col\u001b[38;5;241m.\u001b[39mreverse()\n",
      "\u001b[1;31mIndexError\u001b[0m: list index out of range"
     ]
    }
   ],
   "source": [
    "spiralOrder([[2,3,4],\n",
    "             [5,6,7],\n",
    "             [8,9,10],\n",
    "             [11,12,13],\n",
    "             [14,15,16]])"
   ]
  },
  {
   "cell_type": "code",
   "execution_count": 74,
   "metadata": {},
   "outputs": [
    {
     "data": {
      "text/plain": [
       "[7, 9, 6]"
      ]
     },
     "execution_count": 74,
     "metadata": {},
     "output_type": "execute_result"
    }
   ],
   "source": [
    "spiralOrder(matrix = [[7],[9],[6]])"
   ]
  },
  {
   "cell_type": "code",
   "execution_count": 69,
   "metadata": {},
   "outputs": [
    {
     "data": {
      "text/plain": [
       "[1, 2, 3, 6, 9, 8, 7, 4, 5]"
      ]
     },
     "execution_count": 69,
     "metadata": {},
     "output_type": "execute_result"
    }
   ],
   "source": [
    "spiralOrder(matrix = [[1,2,3],[4,5,6],[7,8,9]])"
   ]
  },
  {
   "cell_type": "code",
   "execution_count": 70,
   "metadata": {},
   "outputs": [
    {
     "data": {
      "text/plain": [
       "[1, 2, 3, 4, 8, 12, 11, 10, 9, 5, 6, 7]"
      ]
     },
     "execution_count": 70,
     "metadata": {},
     "output_type": "execute_result"
    }
   ],
   "source": [
    "spiralOrder(matrix = [[1,2,3,4],[5,6,7,8],[9,10,11,12]])"
   ]
  }
 ],
 "metadata": {
  "kernelspec": {
   "display_name": "env",
   "language": "python",
   "name": "python3"
  },
  "language_info": {
   "codemirror_mode": {
    "name": "ipython",
    "version": 3
   },
   "file_extension": ".py",
   "mimetype": "text/x-python",
   "name": "python",
   "nbconvert_exporter": "python",
   "pygments_lexer": "ipython3",
   "version": "3.11.5"
  }
 },
 "nbformat": 4,
 "nbformat_minor": 2
}
