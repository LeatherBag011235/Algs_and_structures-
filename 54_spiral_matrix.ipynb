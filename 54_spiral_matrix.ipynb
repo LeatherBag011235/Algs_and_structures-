{
 "cells": [
  {
   "cell_type": "code",
   "execution_count": 41,
   "metadata": {},
   "outputs": [],
   "source": [
    "#Full func\n",
    "def spiralOrder(matrix: list[list[int]]) -> list[int]:\n",
    "    if len(matrix[0]) == 1:\n",
    "        return [x[0] for x in matrix]\n",
    "    elif len(matrix) == 1:\n",
    "        return matrix[0]\n",
    "    else:\n",
    "\n",
    "        ans = []\n",
    "        \n",
    "        last_row = False\n",
    "        last_col = True\n",
    "    \n",
    "        while matrix:\n",
    "        \n",
    "            if last_row == False:\n",
    "                row = matrix[0]\n",
    "                matrix.pop(0)\n",
    "    \n",
    "                last_row = True\n",
    "    \n",
    "            else:\n",
    "                row = matrix[-1]\n",
    "                row.reverse()\n",
    "                matrix.pop(-1)\n",
    "    \n",
    "                last_row = False\n",
    "    \n",
    "            ans.extend(row)\n",
    "    \n",
    "            col = []\n",
    "            clean = False\n",
    "\n",
    "            if last_col == True:\n",
    "\n",
    "                for x in matrix:\n",
    "                    col.append(x[-1])\n",
    "                    x.pop(-1)\n",
    "\n",
    "                    if len(x) < 1:\n",
    "                        clean = True\n",
    "\n",
    "                last_col = False\n",
    "\n",
    "            else:\n",
    "                for x in matrix:\n",
    "                    col.append(x[0])\n",
    "                    x.pop(0)\n",
    "\n",
    "                    if len(x) < 1:\n",
    "                        clean = True\n",
    "\n",
    "                col.reverse()\n",
    "\n",
    "                last_col = True\n",
    "\n",
    "            if clean == True:\n",
    "                matrix = [x for x in matrix if x]\n",
    "\n",
    "\n",
    "            ans.extend(col)\n",
    "            \n",
    "        return ans"
   ]
  },
  {
   "cell_type": "code",
   "execution_count": 7,
   "metadata": {},
   "outputs": [],
   "source": [
    "def get_row(matrix, last_row):\n",
    "\n",
    "    if last_row == False:\n",
    "        row = matrix[0]\n",
    "        matrix.pop(0)\n",
    "\n",
    "        last_row = True\n",
    "    \n",
    "    else:\n",
    "        row = matrix[-1]\n",
    "        row.reverse()\n",
    "        matrix.pop(-1)\n",
    "\n",
    "        last_row = False\n",
    "    \n",
    "    return row, last_row"
   ]
  },
  {
   "cell_type": "code",
   "execution_count": 38,
   "metadata": {},
   "outputs": [],
   "source": [
    "def get_col(matrix, last_col):\n",
    "    col = []\n",
    "    clean = False\n",
    "\n",
    "    if last_col == True:\n",
    "        \n",
    "        for x in matrix:\n",
    "            col.append(x[-1])\n",
    "            x.pop(-1)\n",
    "    \n",
    "            if len(x) < 1:\n",
    "                clean = True\n",
    "\n",
    "        last_col = False\n",
    "        \n",
    "    else:\n",
    "        for x in matrix:\n",
    "            col.append(x[0])\n",
    "            x.pop(0)\n",
    "\n",
    "            if len(x) < 1:\n",
    "                clean = True\n",
    "\n",
    "        col.reverse()\n",
    "\n",
    "        last_col = True\n",
    "\n",
    "    if clean == True:\n",
    "        matrix = [x for x in matrix if x]\n",
    "        \n",
    "        \n",
    "    \n",
    "    return col, last_col, matrix"
   ]
  },
  {
   "cell_type": "code",
   "execution_count": 39,
   "metadata": {},
   "outputs": [],
   "source": [
    "def spiralOrder(matrix: list[list[int]]) -> list[int]:\n",
    "    if len(matrix[0]) == 1:\n",
    "        return [x[0] for x in matrix]\n",
    "    elif len(matrix) == 1:\n",
    "        return matrix[0]\n",
    "    else:\n",
    "\n",
    "        ans = []\n",
    "        \n",
    "        last_row = False\n",
    "        last_col = True\n",
    "    \n",
    "        while matrix:\n",
    "        \n",
    "            row, last_row = get_row(matrix, last_row)\n",
    "            print('row:', row, last_row, matrix)\n",
    "            ans.extend(row)\n",
    "    \n",
    "            col, last_col, matrix = get_col(matrix, last_col)\n",
    "            print('col:', col, last_col, matrix)\n",
    "            ans.extend(col)\n",
    "            \n",
    "        return ans"
   ]
  },
  {
   "cell_type": "code",
   "execution_count": 43,
   "metadata": {},
   "outputs": [],
   "source": [
    "#Best solution on Leetcode (its literally genius)(but not much faster, actually) \n",
    "def spiralOrder(matrix: list[list[int]]) -> list[int]:\n",
    "    m, n = len(matrix), len(matrix[0])\n",
    "    count, direction = m*n, 1\n",
    "    i, j, ans = 0, -1, []\n",
    "\n",
    "    while len(ans) != count:\n",
    "        for _ in range(n):\n",
    "            j += direction\n",
    "            ans.append(matrix[i][j])\n",
    "        m -= 1\n",
    "\n",
    "        for _ in range(m):\n",
    "            i += direction\n",
    "            ans.append(matrix[i][j])\n",
    "        n -= 1\n",
    "\n",
    "        direction *= -1\n",
    "    \n",
    "    return ans"
   ]
  },
  {
   "cell_type": "code",
   "execution_count": 44,
   "metadata": {},
   "outputs": [
    {
     "data": {
      "text/plain": [
       "[2, 3, 4, 7, 10, 13, 16, 15, 14, 11, 8, 5, 6, 9, 12]"
      ]
     },
     "execution_count": 44,
     "metadata": {},
     "output_type": "execute_result"
    }
   ],
   "source": [
    "spiralOrder([[2,3,4],\n",
    "             [5,6,7],\n",
    "             [8,9,10],\n",
    "             [11,12,13],\n",
    "             [14,15,16]])"
   ]
  },
  {
   "cell_type": "code",
   "execution_count": 45,
   "metadata": {},
   "outputs": [
    {
     "data": {
      "text/plain": [
       "[7, 9, 6]"
      ]
     },
     "execution_count": 45,
     "metadata": {},
     "output_type": "execute_result"
    }
   ],
   "source": [
    "spiralOrder(matrix = [[7],[9],[6]])"
   ]
  },
  {
   "cell_type": "code",
   "execution_count": 19,
   "metadata": {},
   "outputs": [
    {
     "name": "stdout",
     "output_type": "stream",
     "text": [
      "row: [1, 2, 3] True [[4, 5, 6], [7, 8, 9]]\n",
      "col: [6, 9] False [[4, 5], [7, 8]]\n",
      "row: [8, 7] False [[4, 5]]\n",
      "col: [4] True [[5]]\n",
      "row: [5] True []\n",
      "col: [] False []\n"
     ]
    },
    {
     "data": {
      "text/plain": [
       "[1, 2, 3, 6, 9, 8, 7, 4, 5]"
      ]
     },
     "execution_count": 19,
     "metadata": {},
     "output_type": "execute_result"
    }
   ],
   "source": [
    "spiralOrder(matrix = [[1,2,3],[4,5,6],[7,8,9]])"
   ]
  },
  {
   "cell_type": "code",
   "execution_count": 70,
   "metadata": {},
   "outputs": [
    {
     "data": {
      "text/plain": [
       "[1, 2, 3, 4, 8, 12, 11, 10, 9, 5, 6, 7]"
      ]
     },
     "execution_count": 70,
     "metadata": {},
     "output_type": "execute_result"
    }
   ],
   "source": [
    "spiralOrder(matrix = [[1,2,3,4],[5,6,7,8],[9,10,11,12]])"
   ]
  }
 ],
 "metadata": {
  "kernelspec": {
   "display_name": "env",
   "language": "python",
   "name": "python3"
  },
  "language_info": {
   "codemirror_mode": {
    "name": "ipython",
    "version": 3
   },
   "file_extension": ".py",
   "mimetype": "text/x-python",
   "name": "python",
   "nbconvert_exporter": "python",
   "pygments_lexer": "ipython3",
   "version": "3.11.5"
  }
 },
 "nbformat": 4,
 "nbformat_minor": 2
}
