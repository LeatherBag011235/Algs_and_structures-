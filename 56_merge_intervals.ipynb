{
 "cells": [
  {
   "cell_type": "code",
   "execution_count": 15,
   "metadata": {},
   "outputs": [],
   "source": [
    "def merge(intervals: list[list[int]]) -> list[list[int]]:\n",
    "    n = len(intervals)\n",
    "\n",
    "    intervals.sort(key=lambda sublist: sublist[0])\n",
    "\n",
    "    intervals.append([intervals[-1][1] + 1])\n",
    "\n",
    "    answer = []\n",
    "\n",
    "    i = 0\n",
    "    while i < n:\n",
    "        if intervals[i][1] >= intervals[i + 1][0]:\n",
    "            if intervals[i][1] >= intervals[i + 1][1]:\n",
    "                answer.append(intervals[i])\n",
    "            else:\n",
    "                merged_intr = [intervals[i][0], intervals[i + 1][1]]\n",
    "                answer.append(merged_intr)\n",
    "            i += 2\n",
    "        else:\n",
    "            answer.append(intervals[i])\n",
    "            i += 1\n",
    "    return answer"
   ]
  },
  {
   "cell_type": "code",
   "execution_count": 34,
   "metadata": {},
   "outputs": [],
   "source": [
    "def merge(intervals: list[list[int]]) -> list[list[int]]:\n",
    "    n = len(intervals)\n",
    "\n",
    "    intervals.sort(key=lambda sublist: sublist[0])\n",
    "    print(intervals)\n",
    "    intervals.append([intervals[-1][1] + 1])\n",
    "\n",
    "    answer = []\n",
    "\n",
    "    i = 0\n",
    "    while i < n:\n",
    "        if intervals[i][1] >= intervals[i + 1][0]:\n",
    "            j = i\n",
    "            while (intervals[j][1] >= intervals[i + 1][0]) or (\n",
    "                intervals[j][1] >= intervals[i + 1][1]\n",
    "            ):\n",
    "                i += 1\n",
    "                print(f\"j:{j} \\ni:{i}\")\n",
    "\n",
    "            if intervals[j][1] >= intervals[i + 1][0]:\n",
    "                merged_intr = [intervals[j][0], intervals[i + 1][1]]\n",
    "                answer.append(merged_intr)\n",
    "            else:\n",
    "                merged_intr = [intervals[j][0], intervals[i][1]]\n",
    "                answer.append(merged_intr)\n",
    "                i += 1\n",
    "\n",
    "        else:\n",
    "            answer.append(intervals[i])\n",
    "            i += 1\n",
    "    return answer"
   ]
  },
  {
   "cell_type": "code",
   "execution_count": 102,
   "metadata": {},
   "outputs": [],
   "source": [
    "def merge(intervals: list[list[int]]) -> list[list[int]]:\n",
    "    n = len(intervals)\n",
    "\n",
    "    intervals.sort(key=lambda sublist: sublist[0])\n",
    "\n",
    "    #\n",
    "    # print(intervals)\n",
    "\n",
    "    intervals_prep = [intervals[0]]\n",
    "    for x in range(1, n):\n",
    "        if intervals[x][1] > intervals[x - 1][1]:\n",
    "            intervals_prep.append(intervals[x])\n",
    "\n",
    "    intervals_prep.append([float(\"inf\")])\n",
    "\n",
    "    # print(intervals_prep)\n",
    "\n",
    "    answer = []\n",
    "\n",
    "    i = 0\n",
    "    while i < len(intervals_prep) - 1:\n",
    "        intr_start = intervals_prep[i][0]\n",
    "        if intervals_prep[i][1] < intervals_prep[i + 1][0]:\n",
    "            intr_end = intervals_prep[i][1]\n",
    "            answer.append([intr_start, intr_end])\n",
    "            i += 1\n",
    "        else:\n",
    "            j = i\n",
    "            while intervals_prep[j][1] >= intervals_prep[i + 1][0]:\n",
    "                i += 1\n",
    "                if intervals_prep[j][1] <= intervals_prep[j + 1][1]:\n",
    "                    j += 1\n",
    "                # print(f'i: {i} \\nj: {j}')\n",
    "                intr_end = intervals_prep[j][1]\n",
    "            answer.append([intr_start, intr_end])\n",
    "            i += 1\n",
    "    return answer"
   ]
  },
  {
   "cell_type": "code",
   "execution_count": 103,
   "metadata": {},
   "outputs": [
    {
     "name": "stdout",
     "output_type": "stream",
     "text": [
      "[[2, 3], [2, 2], [3, 4], [3, 4], [5, 5]]\n",
      "[[2, 3], [3, 4], [5, 5], [inf]]\n",
      "i: 1 \n",
      "j: 1\n"
     ]
    },
    {
     "data": {
      "text/plain": [
       "[[2, 4], [5, 5]]"
      ]
     },
     "execution_count": 103,
     "metadata": {},
     "output_type": "execute_result"
    }
   ],
   "source": [
    "merge(intervals=[[2, 3], [5, 5], [2, 2], [3, 4], [3, 4]])"
   ]
  },
  {
   "cell_type": "code",
   "execution_count": 105,
   "metadata": {},
   "outputs": [
    {
     "name": "stdout",
     "output_type": "stream",
     "text": [
      "[[0, 2], [1, 4], [3, 5]]\n",
      "[[0, 2], [1, 4], [3, 5], [inf]]\n",
      "i: 1 \n",
      "j: 1\n",
      "i: 2 \n",
      "j: 2\n"
     ]
    },
    {
     "data": {
      "text/plain": [
       "[[0, 5]]"
      ]
     },
     "execution_count": 105,
     "metadata": {},
     "output_type": "execute_result"
    }
   ],
   "source": [
    "merge(intervals=[[1, 4], [0, 2], [3, 5]])"
   ]
  },
  {
   "cell_type": "code",
   "execution_count": 106,
   "metadata": {},
   "outputs": [
    {
     "name": "stdout",
     "output_type": "stream",
     "text": [
      "[[1, 4], [2, 3]]\n",
      "[[1, 4], [inf]]\n"
     ]
    },
    {
     "data": {
      "text/plain": [
       "[[1, 4]]"
      ]
     },
     "execution_count": 106,
     "metadata": {},
     "output_type": "execute_result"
    }
   ],
   "source": [
    "merge([[1, 4], [2, 3]])"
   ]
  },
  {
   "cell_type": "code",
   "execution_count": 107,
   "metadata": {},
   "outputs": [
    {
     "name": "stdout",
     "output_type": "stream",
     "text": [
      "[[0, 2], [1, 4], [5, 6], [7, 8]]\n",
      "[[0, 2], [1, 4], [5, 6], [7, 8], [inf]]\n",
      "i: 1 \n",
      "j: 1\n"
     ]
    },
    {
     "data": {
      "text/plain": [
       "[[0, 4], [5, 6], [7, 8]]"
      ]
     },
     "execution_count": 107,
     "metadata": {},
     "output_type": "execute_result"
    }
   ],
   "source": [
    "merge([[1, 4], [0, 2], [5, 6], [7, 8]])"
   ]
  },
  {
   "cell_type": "code",
   "execution_count": 108,
   "metadata": {},
   "outputs": [
    {
     "name": "stdout",
     "output_type": "stream",
     "text": [
      "[[1, 3], [2, 6], [8, 10], [15, 18]]\n",
      "[[1, 3], [2, 6], [8, 10], [15, 18], [inf]]\n",
      "i: 1 \n",
      "j: 1\n"
     ]
    },
    {
     "data": {
      "text/plain": [
       "[[1, 6], [8, 10], [15, 18]]"
      ]
     },
     "execution_count": 108,
     "metadata": {},
     "output_type": "execute_result"
    }
   ],
   "source": [
    "merge(intervals=[[1, 3], [2, 6], [8, 10], [15, 18]])"
   ]
  },
  {
   "cell_type": "code",
   "execution_count": 109,
   "metadata": {},
   "outputs": [
    {
     "name": "stdout",
     "output_type": "stream",
     "text": [
      "[[0, 4], [1, 4]]\n",
      "[[0, 4], [inf]]\n"
     ]
    },
    {
     "data": {
      "text/plain": [
       "[[0, 4]]"
      ]
     },
     "execution_count": 109,
     "metadata": {},
     "output_type": "execute_result"
    }
   ],
   "source": [
    "merge([[1, 4], [0, 4]])"
   ]
  }
 ],
 "metadata": {
  "kernelspec": {
   "display_name": "env",
   "language": "python",
   "name": "python3"
  },
  "language_info": {
   "codemirror_mode": {
    "name": "ipython",
    "version": 3
   },
   "file_extension": ".py",
   "mimetype": "text/x-python",
   "name": "python",
   "nbconvert_exporter": "python",
   "pygments_lexer": "ipython3",
   "version": "3.11.5"
  }
 },
 "nbformat": 4,
 "nbformat_minor": 2
}
