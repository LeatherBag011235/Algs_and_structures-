{
 "cells": [
  {
   "cell_type": "code",
   "execution_count": 12,
   "metadata": {},
   "outputs": [],
   "source": [
    "def longestCommonPrefix(strs) -> str:\n",
    "    common_pref = strs[0]\n",
    "\n",
    "    i = 1\n",
    "    while common_pref and i < len(strs):\n",
    "\n",
    "        if len(common_pref) > len(strs[i]):\n",
    "                common_pref = common_pref[:len(strs[i])]\n",
    "\n",
    "        j = 0\n",
    "        while j < len(common_pref):\n",
    "\n",
    "            if strs[i][j] != common_pref[j]:\n",
    "                common_pref = common_pref[:j]\n",
    "            \n",
    "            j += 1     \n",
    "\n",
    "        i += 1\n",
    "    \n",
    "    if common_pref:\n",
    "        return ''.join(common_pref)\n",
    "    else:\n",
    "        return \"\"\n",
    "\n"
   ]
  },
  {
   "cell_type": "code",
   "execution_count": 13,
   "metadata": {},
   "outputs": [
    {
     "data": {
      "text/plain": [
       "'fl'"
      ]
     },
     "execution_count": 13,
     "metadata": {},
     "output_type": "execute_result"
    }
   ],
   "source": [
    "longestCommonPrefix(strs = [\"flower\",\"flow\",\"flight\"])"
   ]
  },
  {
   "cell_type": "code",
   "execution_count": 14,
   "metadata": {},
   "outputs": [
    {
     "data": {
      "text/plain": [
       "''"
      ]
     },
     "execution_count": 14,
     "metadata": {},
     "output_type": "execute_result"
    }
   ],
   "source": [
    "longestCommonPrefix(strs = [\"dog\",\"racecar\",\"car\"])"
   ]
  },
  {
   "cell_type": "code",
   "execution_count": 15,
   "metadata": {},
   "outputs": [
    {
     "data": {
      "text/plain": [
       "'a'"
      ]
     },
     "execution_count": 15,
     "metadata": {},
     "output_type": "execute_result"
    }
   ],
   "source": [
    "longestCommonPrefix(strs = [\"ab\", \"a\"])"
   ]
  },
  {
   "cell_type": "code",
   "execution_count": null,
   "metadata": {},
   "outputs": [],
   "source": [
    "#best solotion on leetcode\n",
    "def longestCommonPrefix( strs) -> str:\n",
    "    ans=\"\"\n",
    "\n",
    "    list=sorted(strs)\n",
    "\n",
    "    first=list[0]\n",
    "    last=list[-1]\n",
    "\n",
    "    for i in range(min(len(first),len(last))):\n",
    "        if(first[i]!=last[i]):\n",
    "            return ans\n",
    "        \n",
    "        ans+=first[i]\n",
    "        \n",
    "    return ans"
   ]
  }
 ],
 "metadata": {
  "kernelspec": {
   "display_name": "env",
   "language": "python",
   "name": "python3"
  },
  "language_info": {
   "codemirror_mode": {
    "name": "ipython",
    "version": 3
   },
   "file_extension": ".py",
   "mimetype": "text/x-python",
   "name": "python",
   "nbconvert_exporter": "python",
   "pygments_lexer": "ipython3",
   "version": "3.11.5"
  }
 },
 "nbformat": 4,
 "nbformat_minor": 2
}
