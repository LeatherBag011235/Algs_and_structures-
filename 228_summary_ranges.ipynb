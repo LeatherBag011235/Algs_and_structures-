{
 "cells": [
  {
   "cell_type": "code",
   "execution_count": 75,
   "metadata": {},
   "outputs": [],
   "source": [
    "def summaryRanges(nums):\n",
    "    if not nums:\n",
    "        return []\n",
    "    elif len(nums) == 1:\n",
    "        return [f\"{nums[0]}\"]\n",
    "    else:\n",
    "    \n",
    "        ints = []\n",
    "    \n",
    "        int_start = nums[0]\n",
    "        prev_num = nums[0]\n",
    "    \n",
    "        for x in nums[1:]:\n",
    "        \n",
    "            if x - 1 != prev_num:\n",
    "            \n",
    "                int_end = prev_num\n",
    "    \n",
    "                if int_start == int_end:\n",
    "                    ints.append(f'{int_start}')\n",
    "                else:\n",
    "                    ints.append(f'{int_start}->{int_end}')\n",
    "    \n",
    "                int_start = x\n",
    "            \n",
    "            prev_num = x\n",
    "    \n",
    "        if int_start == x:\n",
    "            ints.append(f'{int_start}')\n",
    "        else:\n",
    "            ints.append(f'{int_start}->{x}')\n",
    "    \n",
    "        return ints\n",
    "    "
   ]
  },
  {
   "cell_type": "code",
   "execution_count": 76,
   "metadata": {},
   "outputs": [
    {
     "data": {
      "text/plain": [
       "['-1']"
      ]
     },
     "execution_count": 76,
     "metadata": {},
     "output_type": "execute_result"
    }
   ],
   "source": [
    "summaryRanges(nums = [-1])"
   ]
  }
 ],
 "metadata": {
  "kernelspec": {
   "display_name": "env",
   "language": "python",
   "name": "python3"
  },
  "language_info": {
   "codemirror_mode": {
    "name": "ipython",
    "version": 3
   },
   "file_extension": ".py",
   "mimetype": "text/x-python",
   "name": "python",
   "nbconvert_exporter": "python",
   "pygments_lexer": "ipython3",
   "version": "3.11.5"
  }
 },
 "nbformat": 4,
 "nbformat_minor": 2
}
