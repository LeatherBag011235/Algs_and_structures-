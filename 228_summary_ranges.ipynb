{
 "cells": [
  {
   "cell_type": "code",
   "execution_count": 14,
   "metadata": {},
   "outputs": [],
   "source": [
    "def summaryRanges(nums):\n",
    "\n",
    "    ints = []\n",
    "\n",
    "    i = 1\n",
    "    while i < len(nums):\n",
    "        s = 0\n",
    "        int_start = nums[s]\n",
    "\n",
    "        if nums[i-1] != nums[i] - 1:\n",
    "            int_end = nums[i-1]\n",
    "\n",
    "            s = i\n",
    "\n",
    "            if int_start == int_end:\n",
    "                ints.append(f'{int_start}')\n",
    "            else:\n",
    "                ints.append(f'{int_start}->{int_end}')\n",
    "            \n",
    "               \n",
    "\n",
    "        i += 1\n",
    "    \n",
    "    return ints\n",
    "            \n",
    "\n",
    "\n",
    "    \n"
   ]
  },
  {
   "cell_type": "code",
   "execution_count": 15,
   "metadata": {},
   "outputs": [
    {
     "data": {
      "text/plain": [
       "['0->2', '0->5']"
      ]
     },
     "execution_count": 15,
     "metadata": {},
     "output_type": "execute_result"
    }
   ],
   "source": [
    "summaryRanges(nums = [0,1,2,4,5,7])"
   ]
  }
 ],
 "metadata": {
  "kernelspec": {
   "display_name": "env",
   "language": "python",
   "name": "python3"
  },
  "language_info": {
   "codemirror_mode": {
    "name": "ipython",
    "version": 3
   },
   "file_extension": ".py",
   "mimetype": "text/x-python",
   "name": "python",
   "nbconvert_exporter": "python",
   "pygments_lexer": "ipython3",
   "version": "3.11.5"
  }
 },
 "nbformat": 4,
 "nbformat_minor": 2
}
